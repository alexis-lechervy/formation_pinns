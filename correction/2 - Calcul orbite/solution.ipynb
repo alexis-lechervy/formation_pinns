{
 "cells": [
  {
   "cell_type": "code",
   "execution_count": 1,
   "id": "xmgFKNJN7zpu",
   "metadata": {
    "colab": {
     "base_uri": "https://localhost:8080/"
    },
    "id": "xmgFKNJN7zpu",
    "outputId": "77098aab-4aa6-4b10-9c7e-289f0713a907"
   },
   "outputs": [
    {
     "name": "stdout",
     "output_type": "stream",
     "text": [
      "Mounted at /content/drive\n"
     ]
    }
   ],
   "source": [
    "from google.colab import drive\n",
    "drive.mount('/content/drive')"
   ]
  },
  {
   "cell_type": "code",
   "execution_count": 1,
   "id": "15570730-b390-4486-aefc-51124b6fa798",
   "metadata": {
    "id": "15570730-b390-4486-aefc-51124b6fa798"
   },
   "outputs": [],
   "source": [
    "# %load_ext autoreload\n",
    "# %autoreload 2\n",
    "# %reload_ext autoreload\n",
    "# %matplotlib widget\n",
    "\n",
    "\n",
    "import lib.decoder as decoder \n",
    "\n",
    "import matplotlib.pyplot as plt\n",
    "import numpy as np\n",
    "\n",
    "import torch.optim as optim\n",
    "import torch.nn as nn\n",
    "import torch\n",
    "\n",
    "\n",
    "\n",
    "import time\n",
    "\n",
    "from tqdm import tqdm"
   ]
  },
  {
   "cell_type": "markdown",
   "id": "gaMJZa2AHAc7",
   "metadata": {
    "id": "gaMJZa2AHAc7"
   },
   "source": [
    "## Data Visualization\n",
    "\n",
    "---\n",
    "\n"
   ]
  },
  {
   "cell_type": "code",
   "execution_count": 2,
   "id": "7ebd86bc-d8b4-4dd5-a9fd-1b91e0f0edf9",
   "metadata": {
    "id": "7ebd86bc-d8b4-4dd5-a9fd-1b91e0f0edf9"
   },
   "outputs": [
    {
     "ename": "AssertionError",
     "evalue": "Torch not compiled with CUDA enabled",
     "output_type": "error",
     "traceback": [
      "\u001b[1;31m---------------------------------------------------------------------------\u001b[0m",
      "\u001b[1;31mAssertionError\u001b[0m                            Traceback (most recent call last)",
      "\u001b[1;32m~\\AppData\\Local\\Temp/ipykernel_12012/1462487095.py\u001b[0m in \u001b[0;36m<module>\u001b[1;34m\u001b[0m\n\u001b[1;32m----> 1\u001b[1;33m \u001b[0mgen\u001b[0m \u001b[1;33m=\u001b[0m \u001b[0mdecoder\u001b[0m\u001b[1;33m.\u001b[0m\u001b[0mdecoder\u001b[0m\u001b[1;33m(\u001b[0m\u001b[1;36m32\u001b[0m\u001b[1;33m,\u001b[0m \u001b[1;34m\"cuda:0\"\u001b[0m\u001b[1;33m)\u001b[0m \u001b[1;31m# Generator\u001b[0m\u001b[1;33m\u001b[0m\u001b[1;33m\u001b[0m\u001b[0m\n\u001b[0m",
      "\u001b[1;32m~\\Desktop\\Nouveau dossier (4)\\Pratical_work_PINNs\\lib\\decoder.py\u001b[0m in \u001b[0;36mdecoder\u001b[1;34m(img_size, device)\u001b[0m\n\u001b[0;32m     48\u001b[0m     \u001b[1;31m# Sensor parameters -> MVP projection model\u001b[0m\u001b[1;33m\u001b[0m\u001b[1;33m\u001b[0m\u001b[1;33m\u001b[0m\u001b[0m\n\u001b[0;32m     49\u001b[0m     \u001b[0mstation_\u001b[0m \u001b[1;33m=\u001b[0m \u001b[0mstation\u001b[0m\u001b[1;33m.\u001b[0m\u001b[0mStation\u001b[0m\u001b[1;33m(\u001b[0m\u001b[1;33m[\u001b[0m\u001b[1;36m0\u001b[0m\u001b[1;33m,\u001b[0m\u001b[1;36m0\u001b[0m\u001b[1;33m]\u001b[0m\u001b[1;33m)\u001b[0m\u001b[1;33m\u001b[0m\u001b[1;33m\u001b[0m\u001b[0m\n\u001b[1;32m---> 50\u001b[1;33m     \u001b[0mperspective\u001b[0m \u001b[1;33m=\u001b[0m \u001b[0mtorch\u001b[0m\u001b[1;33m.\u001b[0m\u001b[0mfrom_numpy\u001b[0m\u001b[1;33m(\u001b[0m\u001b[0mutils\u001b[0m\u001b[1;33m.\u001b[0m\u001b[0mgetPerspectiveMat\u001b[0m\u001b[1;33m(\u001b[0m\u001b[0mnp\u001b[0m\u001b[1;33m.\u001b[0m\u001b[0mdeg2rad\u001b[0m\u001b[1;33m(\u001b[0m\u001b[1;36m120\u001b[0m\u001b[1;33m)\u001b[0m\u001b[1;33m,\u001b[0m \u001b[1;36m1.0\u001b[0m\u001b[1;33m,\u001b[0m \u001b[1;36m0.1\u001b[0m\u001b[1;33m,\u001b[0m \u001b[1;36m100\u001b[0m\u001b[1;33m)\u001b[0m\u001b[1;33m)\u001b[0m\u001b[1;33m.\u001b[0m\u001b[0mfloat\u001b[0m\u001b[1;33m(\u001b[0m\u001b[1;33m)\u001b[0m\u001b[1;33m.\u001b[0m\u001b[0mto\u001b[0m\u001b[1;33m(\u001b[0m\u001b[0mdevice\u001b[0m\u001b[1;33m)\u001b[0m\u001b[1;33m\u001b[0m\u001b[1;33m\u001b[0m\u001b[0m\n\u001b[0m\u001b[0;32m     51\u001b[0m     \u001b[0mview\u001b[0m \u001b[1;33m=\u001b[0m \u001b[0mtorch\u001b[0m\u001b[1;33m.\u001b[0m\u001b[0mfrom_numpy\u001b[0m\u001b[1;33m(\u001b[0m\u001b[0mutils\u001b[0m\u001b[1;33m.\u001b[0m\u001b[0mgetViewMat\u001b[0m\u001b[1;33m(\u001b[0m\u001b[0mstation_\u001b[0m\u001b[1;33m.\u001b[0m\u001b[0mpos_car\u001b[0m\u001b[1;33m,\u001b[0m\u001b[1;36m2\u001b[0m\u001b[1;33m*\u001b[0m\u001b[0mstation_\u001b[0m\u001b[1;33m.\u001b[0m\u001b[0mpos_car\u001b[0m\u001b[1;33m,\u001b[0m \u001b[0mnp\u001b[0m\u001b[1;33m.\u001b[0m\u001b[0marray\u001b[0m\u001b[1;33m(\u001b[0m\u001b[1;33m[\u001b[0m\u001b[1;36m0\u001b[0m\u001b[1;33m,\u001b[0m\u001b[1;36m1\u001b[0m\u001b[1;33m,\u001b[0m\u001b[1;36m0\u001b[0m\u001b[1;33m]\u001b[0m\u001b[1;33m)\u001b[0m\u001b[1;33m)\u001b[0m\u001b[1;33m)\u001b[0m\u001b[1;33m.\u001b[0m\u001b[0mfloat\u001b[0m\u001b[1;33m(\u001b[0m\u001b[1;33m)\u001b[0m\u001b[1;33m.\u001b[0m\u001b[0mto\u001b[0m\u001b[1;33m(\u001b[0m\u001b[0mdevice\u001b[0m\u001b[1;33m)\u001b[0m\u001b[1;33m\u001b[0m\u001b[1;33m\u001b[0m\u001b[0m\n\u001b[0;32m     52\u001b[0m \u001b[1;33m\u001b[0m\u001b[0m\n",
      "\u001b[1;32m~\\Anaconda3\\lib\\site-packages\\torch\\cuda\\__init__.py\u001b[0m in \u001b[0;36m_lazy_init\u001b[1;34m()\u001b[0m\n\u001b[0;32m    303\u001b[0m             )\n\u001b[0;32m    304\u001b[0m         \u001b[1;32mif\u001b[0m \u001b[1;32mnot\u001b[0m \u001b[0mhasattr\u001b[0m\u001b[1;33m(\u001b[0m\u001b[0mtorch\u001b[0m\u001b[1;33m.\u001b[0m\u001b[0m_C\u001b[0m\u001b[1;33m,\u001b[0m \u001b[1;34m\"_cuda_getDeviceCount\"\u001b[0m\u001b[1;33m)\u001b[0m\u001b[1;33m:\u001b[0m\u001b[1;33m\u001b[0m\u001b[1;33m\u001b[0m\u001b[0m\n\u001b[1;32m--> 305\u001b[1;33m             \u001b[1;32mraise\u001b[0m \u001b[0mAssertionError\u001b[0m\u001b[1;33m(\u001b[0m\u001b[1;34m\"Torch not compiled with CUDA enabled\"\u001b[0m\u001b[1;33m)\u001b[0m\u001b[1;33m\u001b[0m\u001b[1;33m\u001b[0m\u001b[0m\n\u001b[0m\u001b[0;32m    306\u001b[0m         \u001b[1;32mif\u001b[0m \u001b[0m_cudart\u001b[0m \u001b[1;32mis\u001b[0m \u001b[1;32mNone\u001b[0m\u001b[1;33m:\u001b[0m\u001b[1;33m\u001b[0m\u001b[1;33m\u001b[0m\u001b[0m\n\u001b[0;32m    307\u001b[0m             raise AssertionError(\n",
      "\u001b[1;31mAssertionError\u001b[0m: Torch not compiled with CUDA enabled"
     ]
    }
   ],
   "source": [
    "gen = decoder.decoder(32, \"cuda:0\") # Generator"
   ]
  },
  {
   "cell_type": "markdown",
   "id": "H-CoNtgjHOCk",
   "metadata": {
    "id": "H-CoNtgjHOCk"
   },
   "source": [
    "Orbit parameters (eccentricity, inclination, argument of periapsis )"
   ]
  },
  {
   "cell_type": "code",
   "execution_count": 8,
   "id": "099d4a08-0cc9-4bbf-adbb-c027bc12e403",
   "metadata": {
    "id": "099d4a08-0cc9-4bbf-adbb-c027bc12e403"
   },
   "outputs": [],
   "source": [
    "orbit = torch.zeros(1,1,3)\n",
    "\n",
    "orbit[:,0,0] = 0.5\n",
    "orbit[:,0,1] = np.deg2rad(45)\n",
    "orbit[:,0,2] = np.deg2rad(9)"
   ]
  },
  {
   "cell_type": "code",
   "execution_count": 9,
   "id": "3a34934b-3662-4dc0-9950-d3c467cc8700",
   "metadata": {
    "colab": {
     "base_uri": "https://localhost:8080/"
    },
    "id": "3a34934b-3662-4dc0-9950-d3c467cc8700",
    "outputId": "eca31303-38f5-4c09-fd2f-2163b9d67d5a"
   },
   "outputs": [
    {
     "name": "stdout",
     "output_type": "stream",
     "text": [
      "torch.Size([1, 100, 4])\n"
     ]
    }
   ],
   "source": [
    "gen_img = gen(orbit) # Image generation"
   ]
  },
  {
   "cell_type": "markdown",
   "id": "D_HJdOWDHeYk",
   "metadata": {
    "id": "D_HJdOWDHeYk"
   },
   "source": [
    "Show result"
   ]
  },
  {
   "cell_type": "code",
   "execution_count": 10,
   "id": "6c19c4a8-6b94-4ec6-be00-dac339e012ec",
   "metadata": {
    "colab": {
     "base_uri": "https://localhost:8080/",
     "height": 430
    },
    "id": "6c19c4a8-6b94-4ec6-be00-dac339e012ec",
    "outputId": "549f05eb-ccde-4128-f42e-796ec75e656e"
   },
   "outputs": [
    {
     "data": {
      "image/png": "[encoded data removed]",
      "text/plain": [
       "<Figure size 640x480 with 1 Axes>"
      ]
     },
     "metadata": {},
     "output_type": "display_data"
    }
   ],
   "source": [
    "plt.figure()\n",
    "plt.imshow(gen_img.reshape(32,32).cpu())\n",
    "plt.show()"
   ]
  },
  {
   "cell_type": "markdown",
   "id": "qJ9yAfFoH_ly",
   "metadata": {
    "id": "qJ9yAfFoH_ly"
   },
   "source": [
    "## Dataset generation\n",
    "---\n",
    "\n"
   ]
  },
  {
   "cell_type": "code",
   "execution_count": 11,
   "id": "u_KVAvEz8qAe",
   "metadata": {
    "colab": {
     "base_uri": "https://localhost:8080/"
    },
    "id": "u_KVAvEz8qAe",
    "outputId": "80f38e08-6da4-4008-8ced-b359b1dae3f0"
   },
   "outputs": [
    {
     "name": "stdout",
     "output_type": "stream",
     "text": [
      "torch.Size([1000, 100, 4])\n",
      "torch.Size([1000, 100, 4])\n"
     ]
    }
   ],
   "source": [
    "K_train = 1_000\n",
    "K_test= 1000\n",
    "\n",
    "img_size = 32\n",
    "\n",
    "gen = decoder.decoder(img_size, \"cpu\") # Generator\n",
    "def gen_dataset(N):\n",
    "  orbit = torch.zeros(N,1,3)\n",
    "\n",
    "  orbit[:,0,0] = torch.rand(N)*0.5\n",
    "  orbit[:,0,1] = np.deg2rad(torch.rand(N)*20)\n",
    "  orbit[:,0,2] = np.deg2rad(torch.rand(N)*20-10)\n",
    "\n",
    "  gen_img = gen(orbit) # Image generation\n",
    "  return orbit, gen_img\n",
    "\n",
    "orbit_test, gen_img_test = gen_dataset(K_test)\n",
    "orbit_train, gen_img_train = gen_dataset(K_train)\n"
   ]
  },
  {
   "cell_type": "code",
   "execution_count": 12,
   "id": "ReFrF-51ILOd",
   "metadata": {
    "colab": {
     "base_uri": "https://localhost:8080/"
    },
    "id": "ReFrF-51ILOd",
    "outputId": "17b9f5d2-027d-42da-ee6a-494f2e8189ab"
   },
   "outputs": [
    {
     "data": {
      "text/plain": [
       "torch.Size([1000, 1024])"
      ]
     },
     "execution_count": 12,
     "metadata": {},
     "output_type": "execute_result"
    }
   ],
   "source": [
    "gen_img_test.shape"
   ]
  },
  {
   "cell_type": "code",
   "execution_count": 13,
   "id": "48bf6f00-42dd-4aaa-b3df-5e8eaddb9399",
   "metadata": {
    "id": "48bf6f00-42dd-4aaa-b3df-5e8eaddb9399"
   },
   "outputs": [],
   "source": [
    "from torch.utils.data import TensorDataset, DataLoader\n",
    "\n",
    "dataset_test = TensorDataset(gen_img_test, orbit_test)\n",
    "dataset_train = TensorDataset(gen_img_train, orbit_train)"
   ]
  },
  {
   "cell_type": "code",
   "execution_count": 14,
   "id": "0LDanRQeL85s",
   "metadata": {
    "id": "0LDanRQeL85s"
   },
   "outputs": [],
   "source": [
    "loader_train = DataLoader(dataset_train, batch_size=10, shuffle=True)\n",
    "loader_test = DataLoader(dataset_test, batch_size=10, shuffle=False)"
   ]
  },
  {
   "cell_type": "markdown",
   "id": "UZfufFlYb93O",
   "metadata": {
    "id": "UZfufFlYb93O"
   },
   "source": [
    "## Training"
   ]
  },
  {
   "cell_type": "code",
   "execution_count": 34,
   "id": "YZBZn8vNMHRS",
   "metadata": {
    "id": "YZBZn8vNMHRS"
   },
   "outputs": [],
   "source": [
    "mse = torch.nn.MSELoss()\n",
    "lambda_ = 0.\n",
    "def single_epoch(lr, dataloader, optimizer, train = True, device = \"cpu\"):\n",
    "    l_label_item = 0\n",
    "    l_physics_item = 0\n",
    "    for img, orbit_label in dataloader:\n",
    "        img = img.to(device)\n",
    "        orbit_label = orbit_label.to(device)\n",
    "\n",
    "        orbit_pred = net(img)\n",
    "        \n",
    "        \n",
    "        ecc = orbit_pred[:,0]\n",
    "        inc = orbit_pred[:,1]\n",
    "        argper = orbit_pred[:,2]\n",
    "\n",
    "\n",
    "        l_label = mse(torch.stack((ecc,inc,argper),dim=-1)[:,None,:], orbit_label)\n",
    "       \n",
    "        img_from_pred = gen(torch.stack((torch.clamp(ecc,0,0.5),inc,argper),dim=-1)[:,None,:]).to(device)\n",
    "        l_physics = mse(img_from_pred, img)\n",
    "        \n",
    "        \n",
    "        \n",
    "        l = lambda_ * l_label +  (1-lambda_) * l_physics\n",
    "\n",
    "\n",
    "        l_label_item += l_label.item()/len(dataloader)\n",
    "        l_physics_item += l_physics.item()/len(dataloader)\n",
    "\n",
    "        if train:\n",
    "            optimizer.zero_grad()\n",
    "            l.backward()\n",
    "            optimizer.step()\n",
    "\n",
    "    return l_label_item, l_physics_item"
   ]
  },
  {
   "cell_type": "code",
   "execution_count": 35,
   "id": "HD7-AdqtNDrJ",
   "metadata": {
    "id": "HD7-AdqtNDrJ"
   },
   "outputs": [],
   "source": [
    "loss_label = {\"test\" : [], \"train\" : [] }\n",
    "loss_physics = {\"test\" : [], \"train\" : [] }\n",
    "\n",
    "def train(net, nbr_iter = 100, lr = 0.001 , progressbar = True, start = 0 ):\n",
    "\n",
    "    net = net.to(device)\n",
    "\n",
    "    if progressbar:\n",
    "        loop_obj = tqdm(range(start, nbr_iter,1))\n",
    "    else :\n",
    "        loop_obj = range(nbr_iter)\n",
    "\n",
    "\n",
    "    optimizer = optim.Adam(net.parameters(), lr=lr,betas=(0.9,0.99))\n",
    "    # optimizer = optim.SGD(net.parameters())\n",
    "\n",
    "    for e in loop_obj:\n",
    "        t_start_epoch = time.time()\n",
    "\n",
    "\n",
    "        l_label_item, l_physics_item = single_epoch(lr, tqdm(loader_train), optimizer, train = True, device = device)\n",
    "        loss_label[\"train\"].append(l_label_item)\n",
    "        loss_physics[\"train\"].append(l_physics_item)\n",
    "\n",
    "        l_label_item, l_physics_item = single_epoch(lr, tqdm(loader_test), optimizer, train = False, device = device)\n",
    "        loss_label[\"test\"].append(l_label_item)\n",
    "        loss_physics[\"test\"].append(l_physics_item)\n",
    "\n",
    "\n",
    "\n",
    "        loss_label_train, loss_label_test = (loss_label[\"train\"][-1]), (loss_label[\"test\"][-1])\n",
    "        loss_physics_train, loss_physics_test = (loss_physics[\"train\"][-1]), (loss_physics[\"test\"][-1])\n",
    "\n",
    "        # torch.save({\n",
    "        #     'epoch': e,\n",
    "        #     'model_state_dict': net.state_dict(),\n",
    "        #     'optimizer_state_dict': optimizer.state_dict(),\n",
    "        #     'loss_pred_train': loss_pred_train,\n",
    "        #     'loss_pred_test': loss_pred_test,\n",
    "        #     'learning_rate' : lr\n",
    "        #     }, path + \"/model_\"+str(e)+\".pth\")\n",
    "\n",
    "\n",
    "\n",
    "        print(f\"Epoch duration : {(time.time() - t_start_epoch)/60} minutes \")\n",
    "        print(\"----- Loss function values -------\")\n",
    "        print(\"Train set\")\n",
    "        print(f\"Loss_label: {loss_label_train}  -- Loss_physics: {loss_physics_train} \")\n",
    "        print(\"Test set \")\n",
    "        print(f\"Loss_label: {loss_label_test}  -- Loss_physics: {loss_physics_test} \")\n",
    "\n",
    "        # if progressbar:\n",
    "        #     loop_obj.set_description(f\"Loss_pred_train: {loss_pred_train},  Loss_pred_test: {loss_pred_test}\")"
   ]
  },
  {
   "cell_type": "code",
   "execution_count": 17,
   "id": "iFRQ2xiGPONq",
   "metadata": {
    "id": "iFRQ2xiGPONq"
   },
   "outputs": [],
   "source": [
    "net = torch.nn.Sequential(nn.Linear(img_size**2, 24),\n",
    "                          nn.ReLU(),\n",
    "                          nn.Linear(24, 24),\n",
    "                          nn.ReLU(),\n",
    "                          nn.Linear(24, 24),\n",
    "                          nn.ReLU(),\n",
    "                          nn.Linear(24, 3)\n",
    "\n",
    "                          )"
   ]
  },
  {
   "cell_type": "code",
   "execution_count": 36,
   "id": "zZ0261PkNIR-",
   "metadata": {
    "colab": {
     "base_uri": "https://localhost:8080/",
     "height": 1000
    },
    "id": "zZ0261PkNIR-",
    "outputId": "5fa2c297-457c-4cc8-d61e-bc54786dc8ae"
   },
   "outputs": [
    {
     "name": "stderr",
     "output_type": "stream",
     "text": [
      "  3%|▎         | 3/100 [00:00<00:04, 23.00it/s]"
     ]
    },
    {
     "name": "stdout",
     "output_type": "stream",
     "text": [
      "torch.Size([10, 100, 4])\n",
      "torch.Size([10, 100, 4])\n",
      "torch.Size([10, 100, 4])\n",
      "torch.Size([10, 100, 4])\n",
      "torch.Size([10, 100, 4])\n"
     ]
    },
    {
     "name": "stderr",
     "output_type": "stream",
     "text": [
      "  9%|▉         | 9/100 [00:00<00:03, 25.21it/s]"
     ]
    },
    {
     "name": "stdout",
     "output_type": "stream",
     "text": [
      "torch.Size([10, 100, 4])\n",
      "torch.Size([10, 100, 4])\n",
      "torch.Size([10, 100, 4])\n",
      "torch.Size([10, 100, 4])\n",
      "torch.Size([10, 100, 4])\n",
      "torch.Size([10, 100, 4])\n"
     ]
    },
    {
     "name": "stderr",
     "output_type": "stream",
     "text": [
      " 15%|█▌        | 15/100 [00:00<00:03, 24.89it/s]"
     ]
    },
    {
     "name": "stdout",
     "output_type": "stream",
     "text": [
      "torch.Size([10, 100, 4])\n",
      "torch.Size([10, 100, 4])\n",
      "torch.Size([10, 100, 4])\n",
      "torch.Size([10, 100, 4])\n",
      "torch.Size([10, 100, 4])\n"
     ]
    },
    {
     "name": "stderr",
     "output_type": "stream",
     "text": [
      " 18%|█▊        | 18/100 [00:00<00:03, 24.36it/s]"
     ]
    },
    {
     "name": "stdout",
     "output_type": "stream",
     "text": [
      "torch.Size([10, 100, 4])\n",
      "torch.Size([10, 100, 4])\n",
      "torch.Size([10, 100, 4])\n",
      "torch.Size([10, 100, 4])\n",
      "torch.Size([10, 100, 4])\n"
     ]
    },
    {
     "name": "stderr",
     "output_type": "stream",
     "text": [
      " 24%|██▍       | 24/100 [00:00<00:03, 24.49it/s]"
     ]
    },
    {
     "name": "stdout",
     "output_type": "stream",
     "text": [
      "torch.Size([10, 100, 4])\n",
      "torch.Size([10, 100, 4])\n",
      "torch.Size([10, 100, 4])\n",
      "torch.Size([10, 100, 4])\n",
      "torch.Size([10, 100, 4])\n"
     ]
    },
    {
     "name": "stderr",
     "output_type": "stream",
     "text": [
      " 27%|██▋       | 27/100 [00:01<00:03, 23.83it/s]"
     ]
    },
    {
     "name": "stdout",
     "output_type": "stream",
     "text": [
      "torch.Size([10, 100, 4])\n",
      "torch.Size([10, 100, 4])\n"
     ]
    },
    {
     "name": "stderr",
     "output_type": "stream",
     "text": [
      "\n"
     ]
    },
    {
     "ename": "KeyboardInterrupt",
     "evalue": "",
     "output_type": "error",
     "traceback": [
      "\u001b[0;31m---------------------------------------------------------------------------\u001b[0m",
      "\u001b[0;31mKeyboardInterrupt\u001b[0m                         Traceback (most recent call last)",
      "\u001b[0;32m<ipython-input-36-7889dfaf554f>\u001b[0m in \u001b[0;36m<cell line: 2>\u001b[0;34m()\u001b[0m\n\u001b[1;32m      1\u001b[0m \u001b[0mdevice\u001b[0m \u001b[0;34m=\u001b[0m \u001b[0;34m\"cuda:0\"\u001b[0m\u001b[0;34m\u001b[0m\u001b[0;34m\u001b[0m\u001b[0m\n\u001b[0;32m----> 2\u001b[0;31m \u001b[0mtrain\u001b[0m\u001b[0;34m(\u001b[0m\u001b[0mnet\u001b[0m\u001b[0;34m,\u001b[0m \u001b[0mnbr_iter\u001b[0m \u001b[0;34m=\u001b[0m \u001b[0;36m100\u001b[0m\u001b[0;34m,\u001b[0m \u001b[0mlr\u001b[0m \u001b[0;34m=\u001b[0m \u001b[0;36m0.0001\u001b[0m\u001b[0;34m,\u001b[0m \u001b[0mprogressbar\u001b[0m \u001b[0;34m=\u001b[0m \u001b[0;32mFalse\u001b[0m \u001b[0;34m)\u001b[0m\u001b[0;34m\u001b[0m\u001b[0;34m\u001b[0m\u001b[0m\n\u001b[0m",
      "\u001b[0;32m<ipython-input-35-ff7b8b13908f>\u001b[0m in \u001b[0;36mtrain\u001b[0;34m(net, nbr_iter, lr, progressbar, start)\u001b[0m\n\u001b[1;32m     19\u001b[0m \u001b[0;34m\u001b[0m\u001b[0m\n\u001b[1;32m     20\u001b[0m \u001b[0;34m\u001b[0m\u001b[0m\n\u001b[0;32m---> 21\u001b[0;31m         \u001b[0ml_label_item\u001b[0m\u001b[0;34m,\u001b[0m \u001b[0ml_physics_item\u001b[0m \u001b[0;34m=\u001b[0m \u001b[0msingle_epoch\u001b[0m\u001b[0;34m(\u001b[0m\u001b[0mlr\u001b[0m\u001b[0;34m,\u001b[0m \u001b[0mtqdm\u001b[0m\u001b[0;34m(\u001b[0m\u001b[0mloader_train\u001b[0m\u001b[0;34m)\u001b[0m\u001b[0;34m,\u001b[0m \u001b[0moptimizer\u001b[0m\u001b[0;34m,\u001b[0m \u001b[0mtrain\u001b[0m \u001b[0;34m=\u001b[0m \u001b[0;32mTrue\u001b[0m\u001b[0;34m,\u001b[0m \u001b[0mdevice\u001b[0m \u001b[0;34m=\u001b[0m \u001b[0mdevice\u001b[0m\u001b[0;34m)\u001b[0m\u001b[0;34m\u001b[0m\u001b[0;34m\u001b[0m\u001b[0m\n\u001b[0m\u001b[1;32m     22\u001b[0m         \u001b[0mloss_label\u001b[0m\u001b[0;34m[\u001b[0m\u001b[0;34m\"train\"\u001b[0m\u001b[0;34m]\u001b[0m\u001b[0;34m.\u001b[0m\u001b[0mappend\u001b[0m\u001b[0;34m(\u001b[0m\u001b[0ml_label_item\u001b[0m\u001b[0;34m)\u001b[0m\u001b[0;34m\u001b[0m\u001b[0;34m\u001b[0m\u001b[0m\n\u001b[1;32m     23\u001b[0m         \u001b[0mloss_physics\u001b[0m\u001b[0;34m[\u001b[0m\u001b[0;34m\"train\"\u001b[0m\u001b[0;34m]\u001b[0m\u001b[0;34m.\u001b[0m\u001b[0mappend\u001b[0m\u001b[0;34m(\u001b[0m\u001b[0ml_physics_item\u001b[0m\u001b[0;34m)\u001b[0m\u001b[0;34m\u001b[0m\u001b[0;34m\u001b[0m\u001b[0m\n",
      "\u001b[0;32m<ipython-input-34-154b33478056>\u001b[0m in \u001b[0;36msingle_epoch\u001b[0;34m(lr, dataloader, optimizer, train, device)\u001b[0m\n\u001b[1;32m     37\u001b[0m         \u001b[0;32mif\u001b[0m \u001b[0mtrain\u001b[0m\u001b[0;34m:\u001b[0m\u001b[0;34m\u001b[0m\u001b[0;34m\u001b[0m\u001b[0m\n\u001b[1;32m     38\u001b[0m             \u001b[0moptimizer\u001b[0m\u001b[0;34m.\u001b[0m\u001b[0mzero_grad\u001b[0m\u001b[0;34m(\u001b[0m\u001b[0;34m)\u001b[0m\u001b[0;34m\u001b[0m\u001b[0;34m\u001b[0m\u001b[0m\n\u001b[0;32m---> 39\u001b[0;31m             \u001b[0ml\u001b[0m\u001b[0;34m.\u001b[0m\u001b[0mbackward\u001b[0m\u001b[0;34m(\u001b[0m\u001b[0;34m)\u001b[0m\u001b[0;34m\u001b[0m\u001b[0;34m\u001b[0m\u001b[0m\n\u001b[0m\u001b[1;32m     40\u001b[0m             \u001b[0moptimizer\u001b[0m\u001b[0;34m.\u001b[0m\u001b[0mstep\u001b[0m\u001b[0;34m(\u001b[0m\u001b[0;34m)\u001b[0m\u001b[0;34m\u001b[0m\u001b[0;34m\u001b[0m\u001b[0m\n\u001b[1;32m     41\u001b[0m \u001b[0;34m\u001b[0m\u001b[0m\n",
      "\u001b[0;32m/usr/local/lib/python3.10/dist-packages/torch/_tensor.py\u001b[0m in \u001b[0;36mbackward\u001b[0;34m(self, gradient, retain_graph, create_graph, inputs)\u001b[0m\n\u001b[1;32m    519\u001b[0m                 \u001b[0minputs\u001b[0m\u001b[0;34m=\u001b[0m\u001b[0minputs\u001b[0m\u001b[0;34m,\u001b[0m\u001b[0;34m\u001b[0m\u001b[0;34m\u001b[0m\u001b[0m\n\u001b[1;32m    520\u001b[0m             )\n\u001b[0;32m--> 521\u001b[0;31m         torch.autograd.backward(\n\u001b[0m\u001b[1;32m    522\u001b[0m             \u001b[0mself\u001b[0m\u001b[0;34m,\u001b[0m \u001b[0mgradient\u001b[0m\u001b[0;34m,\u001b[0m \u001b[0mretain_graph\u001b[0m\u001b[0;34m,\u001b[0m \u001b[0mcreate_graph\u001b[0m\u001b[0;34m,\u001b[0m \u001b[0minputs\u001b[0m\u001b[0;34m=\u001b[0m\u001b[0minputs\u001b[0m\u001b[0;34m\u001b[0m\u001b[0;34m\u001b[0m\u001b[0m\n\u001b[1;32m    523\u001b[0m         )\n",
      "\u001b[0;32m/usr/local/lib/python3.10/dist-packages/torch/autograd/__init__.py\u001b[0m in \u001b[0;36mbackward\u001b[0;34m(tensors, grad_tensors, retain_graph, create_graph, grad_variables, inputs)\u001b[0m\n\u001b[1;32m    287\u001b[0m     \u001b[0;31m# some Python versions print out the first line of a multi-line function\u001b[0m\u001b[0;34m\u001b[0m\u001b[0;34m\u001b[0m\u001b[0m\n\u001b[1;32m    288\u001b[0m     \u001b[0;31m# calls in the traceback and some print out the last line\u001b[0m\u001b[0;34m\u001b[0m\u001b[0;34m\u001b[0m\u001b[0m\n\u001b[0;32m--> 289\u001b[0;31m     _engine_run_backward(\n\u001b[0m\u001b[1;32m    290\u001b[0m         \u001b[0mtensors\u001b[0m\u001b[0;34m,\u001b[0m\u001b[0;34m\u001b[0m\u001b[0;34m\u001b[0m\u001b[0m\n\u001b[1;32m    291\u001b[0m         \u001b[0mgrad_tensors_\u001b[0m\u001b[0;34m,\u001b[0m\u001b[0;34m\u001b[0m\u001b[0;34m\u001b[0m\u001b[0m\n",
      "\u001b[0;32m/usr/local/lib/python3.10/dist-packages/torch/autograd/graph.py\u001b[0m in \u001b[0;36m_engine_run_backward\u001b[0;34m(t_outputs, *args, **kwargs)\u001b[0m\n\u001b[1;32m    766\u001b[0m         \u001b[0munregister_hooks\u001b[0m \u001b[0;34m=\u001b[0m \u001b[0m_register_logging_hooks_on_whole_graph\u001b[0m\u001b[0;34m(\u001b[0m\u001b[0mt_outputs\u001b[0m\u001b[0;34m)\u001b[0m\u001b[0;34m\u001b[0m\u001b[0;34m\u001b[0m\u001b[0m\n\u001b[1;32m    767\u001b[0m     \u001b[0;32mtry\u001b[0m\u001b[0;34m:\u001b[0m\u001b[0;34m\u001b[0m\u001b[0;34m\u001b[0m\u001b[0m\n\u001b[0;32m--> 768\u001b[0;31m         return Variable._execution_engine.run_backward(  # Calls into the C++ engine to run the backward pass\n\u001b[0m\u001b[1;32m    769\u001b[0m             \u001b[0mt_outputs\u001b[0m\u001b[0;34m,\u001b[0m \u001b[0;34m*\u001b[0m\u001b[0margs\u001b[0m\u001b[0;34m,\u001b[0m \u001b[0;34m**\u001b[0m\u001b[0mkwargs\u001b[0m\u001b[0;34m\u001b[0m\u001b[0;34m\u001b[0m\u001b[0m\n\u001b[1;32m    770\u001b[0m         )  # Calls into the C++ engine to run the backward pass\n",
      "\u001b[0;32m/usr/local/lib/python3.10/dist-packages/torch/autograd/function.py\u001b[0m in \u001b[0;36mapply\u001b[0;34m(self, *args)\u001b[0m\n\u001b[1;32m    304\u001b[0m             )\n\u001b[1;32m    305\u001b[0m         \u001b[0muser_fn\u001b[0m \u001b[0;34m=\u001b[0m \u001b[0mvjp_fn\u001b[0m \u001b[0;32mif\u001b[0m \u001b[0mvjp_fn\u001b[0m \u001b[0;32mis\u001b[0m \u001b[0;32mnot\u001b[0m \u001b[0mFunction\u001b[0m\u001b[0;34m.\u001b[0m\u001b[0mvjp\u001b[0m \u001b[0;32melse\u001b[0m \u001b[0mbackward_fn\u001b[0m\u001b[0;34m\u001b[0m\u001b[0;34m\u001b[0m\u001b[0m\n\u001b[0;32m--> 306\u001b[0;31m         \u001b[0;32mreturn\u001b[0m \u001b[0muser_fn\u001b[0m\u001b[0;34m(\u001b[0m\u001b[0mself\u001b[0m\u001b[0;34m,\u001b[0m \u001b[0;34m*\u001b[0m\u001b[0margs\u001b[0m\u001b[0;34m)\u001b[0m\u001b[0;34m\u001b[0m\u001b[0;34m\u001b[0m\u001b[0m\n\u001b[0m\u001b[1;32m    307\u001b[0m \u001b[0;34m\u001b[0m\u001b[0m\n\u001b[1;32m    308\u001b[0m     \u001b[0;32mdef\u001b[0m \u001b[0mapply_jvp\u001b[0m\u001b[0;34m(\u001b[0m\u001b[0mself\u001b[0m\u001b[0;34m,\u001b[0m \u001b[0;34m*\u001b[0m\u001b[0margs\u001b[0m\u001b[0;34m)\u001b[0m\u001b[0;34m:\u001b[0m\u001b[0;34m\u001b[0m\u001b[0;34m\u001b[0m\u001b[0m\n",
      "\u001b[0;32m/content/translate.py\u001b[0m in \u001b[0;36mbackward\u001b[0;34m(ctx, grad_output)\u001b[0m\n\u001b[1;32m    217\u001b[0m             \u001b[0mc2\u001b[0m \u001b[0;34m=\u001b[0m \u001b[0mpoints_pos\u001b[0m\u001b[0;34m[\u001b[0m\u001b[0;34m:\u001b[0m\u001b[0;34m,\u001b[0m\u001b[0;34m:\u001b[0m\u001b[0;34m,\u001b[0m\u001b[0;36m1\u001b[0m\u001b[0;34m]\u001b[0m\u001b[0;34m.\u001b[0m\u001b[0mreshape\u001b[0m\u001b[0;34m(\u001b[0m\u001b[0;34m(\u001b[0m\u001b[0mlen\u001b[0m\u001b[0;34m(\u001b[0m\u001b[0mpoints_pos\u001b[0m\u001b[0;34m)\u001b[0m\u001b[0;34m,\u001b[0m\u001b[0;36m100\u001b[0m\u001b[0;34m,\u001b[0m\u001b[0;36m1\u001b[0m\u001b[0;34m,\u001b[0m\u001b[0;36m1\u001b[0m\u001b[0;34m)\u001b[0m\u001b[0;34m)\u001b[0m\u001b[0;34m\u001b[0m\u001b[0;34m\u001b[0m\u001b[0m\n\u001b[1;32m    218\u001b[0m \u001b[0;34m\u001b[0m\u001b[0m\n\u001b[0;32m--> 219\u001b[0;31m             \u001b[0mg\u001b[0m\u001b[0;34m[\u001b[0m\u001b[0;34m:\u001b[0m\u001b[0;34m,\u001b[0m\u001b[0;36m0\u001b[0m\u001b[0;34m]\u001b[0m \u001b[0;34m=\u001b[0m  \u001b[0;34m(\u001b[0m\u001b[0;34m-\u001b[0m\u001b[0mc1\u001b[0m \u001b[0;34m+\u001b[0m \u001b[0mgrid_x\u001b[0m\u001b[0;34m)\u001b[0m \u001b[0;34m*\u001b[0m\u001b[0mtorch\u001b[0m\u001b[0;34m.\u001b[0m\u001b[0mexp\u001b[0m\u001b[0;34m(\u001b[0m\u001b[0;34m-\u001b[0m\u001b[0;34m(\u001b[0m\u001b[0;34m(\u001b[0m\u001b[0mgrid_x\u001b[0m\u001b[0;34m-\u001b[0m\u001b[0mc1\u001b[0m\u001b[0;34m)\u001b[0m\u001b[0;34m**\u001b[0m\u001b[0;36m2\u001b[0m\u001b[0;34m/\u001b[0m\u001b[0;34m(\u001b[0m\u001b[0;36m2\u001b[0m\u001b[0;34m*\u001b[0m\u001b[0msigma\u001b[0m\u001b[0;34m**\u001b[0m\u001b[0;36m2\u001b[0m\u001b[0;34m)\u001b[0m\u001b[0;34m+\u001b[0m\u001b[0;34m(\u001b[0m\u001b[0mgrid_y\u001b[0m\u001b[0;34m-\u001b[0m\u001b[0mc2\u001b[0m\u001b[0;34m)\u001b[0m\u001b[0;34m**\u001b[0m\u001b[0;36m2\u001b[0m\u001b[0;34m/\u001b[0m\u001b[0;34m(\u001b[0m\u001b[0;36m2\u001b[0m\u001b[0;34m*\u001b[0m\u001b[0msigma\u001b[0m\u001b[0;34m**\u001b[0m\u001b[0;36m2\u001b[0m\u001b[0;34m)\u001b[0m\u001b[0;34m)\u001b[0m\u001b[0;34m)\u001b[0m\u001b[0;34m\u001b[0m\u001b[0;34m\u001b[0m\u001b[0m\n\u001b[0m\u001b[1;32m    220\u001b[0m             \u001b[0mg\u001b[0m\u001b[0;34m[\u001b[0m\u001b[0;34m:\u001b[0m\u001b[0;34m,\u001b[0m\u001b[0;36m1\u001b[0m\u001b[0;34m]\u001b[0m \u001b[0;34m=\u001b[0m \u001b[0;34m(\u001b[0m\u001b[0;34m-\u001b[0m\u001b[0mc2\u001b[0m \u001b[0;34m+\u001b[0m \u001b[0mgrid_y\u001b[0m\u001b[0;34m)\u001b[0m \u001b[0;34m*\u001b[0m\u001b[0mtorch\u001b[0m\u001b[0;34m.\u001b[0m\u001b[0mexp\u001b[0m\u001b[0;34m(\u001b[0m\u001b[0;34m-\u001b[0m\u001b[0;34m(\u001b[0m\u001b[0;34m(\u001b[0m\u001b[0mgrid_x\u001b[0m\u001b[0;34m-\u001b[0m\u001b[0mc1\u001b[0m\u001b[0;34m)\u001b[0m\u001b[0;34m**\u001b[0m\u001b[0;36m2\u001b[0m\u001b[0;34m/\u001b[0m\u001b[0;34m(\u001b[0m\u001b[0;36m2\u001b[0m\u001b[0;34m*\u001b[0m\u001b[0msigma\u001b[0m\u001b[0;34m**\u001b[0m\u001b[0;36m2\u001b[0m\u001b[0;34m)\u001b[0m\u001b[0;34m+\u001b[0m\u001b[0;34m(\u001b[0m\u001b[0mgrid_y\u001b[0m\u001b[0;34m-\u001b[0m\u001b[0mc2\u001b[0m\u001b[0;34m)\u001b[0m\u001b[0;34m**\u001b[0m\u001b[0;36m2\u001b[0m\u001b[0;34m/\u001b[0m\u001b[0;34m(\u001b[0m\u001b[0;36m2\u001b[0m\u001b[0;34m*\u001b[0m\u001b[0msigma\u001b[0m\u001b[0;34m**\u001b[0m\u001b[0;36m2\u001b[0m\u001b[0;34m)\u001b[0m\u001b[0;34m)\u001b[0m\u001b[0;34m)\u001b[0m\u001b[0;34m\u001b[0m\u001b[0;34m\u001b[0m\u001b[0m\n\u001b[1;32m    221\u001b[0m \u001b[0;34m\u001b[0m\u001b[0m\n",
      "\u001b[0;31mKeyboardInterrupt\u001b[0m: "
     ]
    }
   ],
   "source": [
    "device = \"cuda:0\"\n",
    "train(net, nbr_iter = 100, lr = 0.0001, progressbar = False )"
   ]
  },
  {
   "cell_type": "markdown",
   "id": "thfjZ6OTuh4Z",
   "metadata": {
    "id": "thfjZ6OTuh4Z"
   },
   "source": [
    "## Testing\n",
    "\n",
    "---"
   ]
  },
  {
   "cell_type": "code",
   "execution_count": 49,
   "id": "RhrubM1VNIUG",
   "metadata": {
    "colab": {
     "base_uri": "https://localhost:8080/"
    },
    "id": "RhrubM1VNIUG",
    "outputId": "82e11926-f0ee-48ee-cbff-67ea39a9fb6c"
   },
   "outputs": [
    {
     "name": "stdout",
     "output_type": "stream",
     "text": [
      "torch.Size([1, 100, 4])\n"
     ]
    }
   ],
   "source": [
    "orbit = torch.zeros(1,1,3)\n",
    "\n",
    "orbit[:,0,0] = 0.4\n",
    "orbit[:,0,1] = np.deg2rad(2)\n",
    "orbit[:,0,2] = np.deg2rad(9)\n",
    "\n",
    "gen_img = gen(orbit) # Image generation"
   ]
  },
  {
   "cell_type": "code",
   "execution_count": 50,
   "id": "0TEY94gkZr8A",
   "metadata": {
    "id": "0TEY94gkZr8A"
   },
   "outputs": [],
   "source": [
    "res = net(gen_img.to(\"cuda:0\"))"
   ]
  },
  {
   "cell_type": "code",
   "execution_count": 51,
   "id": "oByXJDFXaK6H",
   "metadata": {
    "colab": {
     "base_uri": "https://localhost:8080/"
    },
    "id": "oByXJDFXaK6H",
    "outputId": "c59b377a-21ad-4e26-e896-9f4d5c9328d5"
   },
   "outputs": [
    {
     "name": "stdout",
     "output_type": "stream",
     "text": [
      "MSE error 0.014097504317760468\n",
      "tensor([[ 0.4024,  0.0764, -0.0443]], device='cuda:0',\n",
      "       grad_fn=<AddmmBackward0>)\n",
      "tensor([[[0.4000, 0.0349, 0.1571]]])\n"
     ]
    }
   ],
   "source": [
    "print(\"MSE error\", mse(orbit, res.cpu()).item())\n",
    "print(res)\n",
    "print(orbit)"
   ]
  },
  {
   "cell_type": "code",
   "execution_count": 52,
   "id": "ot_20fRzaCR4",
   "metadata": {
    "colab": {
     "base_uri": "https://localhost:8080/"
    },
    "id": "ot_20fRzaCR4",
    "outputId": "549655e8-6f21-4518-bac8-b21bc85f06b8"
   },
   "outputs": [
    {
     "name": "stdout",
     "output_type": "stream",
     "text": [
      "torch.Size([1, 100, 4])\n"
     ]
    }
   ],
   "source": [
    "gen_img_from_nn = gen(res[:,None,:])"
   ]
  },
  {
   "cell_type": "code",
   "execution_count": 53,
   "id": "kKjB-zEPaFep",
   "metadata": {
    "colab": {
     "base_uri": "https://localhost:8080/",
     "height": 308
    },
    "id": "kKjB-zEPaFep",
    "outputId": "2816af8f-72eb-4b17-b477-365070712e4e"
   },
   "outputs": [
    {
     "data": {
      "image/png": "[encoded data removed]",
      "text/plain": [
       "<Figure size 640x480 with 2 Axes>"
      ]
     },
     "metadata": {},
     "output_type": "display_data"
    }
   ],
   "source": [
    "fig , ax = plt.subplots(1,2)\n",
    "ax[0].imshow(gen_img.reshape(32,32).detach().cpu())\n",
    "ax[0].set_title(\"GT\")\n",
    "ax[1].imshow(gen_img_from_nn.reshape(32,32).detach().cpu())\n",
    "ax[1].set_title(\"NN prediction\")\n",
    "plt.show()"
   ]
  },
  {
   "cell_type": "code",
   "execution_count": null,
   "id": "gc8-Pnl8Z2mF",
   "metadata": {
    "id": "gc8-Pnl8Z2mF"
   },
   "outputs": [],
   "source": []
  }
 ],
 "metadata": {
  "accelerator": "GPU",
  "colab": {
   "gpuType": "A100",
   "provenance": []
  },
  "kernelspec": {
   "display_name": "Python 3 (ipykernel)",
   "language": "python",
   "name": "python3"
  },
  "language_info": {
   "codemirror_mode": {
    "name": "ipython",
    "version": 3
   },
   "file_extension": ".py",
   "mimetype": "text/x-python",
   "name": "python",
   "nbconvert_exporter": "python",
   "pygments_lexer": "ipython3",
   "version": "3.10.5"
  }
 },
 "nbformat": 4,
 "nbformat_minor": 5
}
