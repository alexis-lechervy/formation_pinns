{
 "cells": [
  {
   "cell_type": "code",
   "execution_count": 1,
   "id": "4ef3461b-7432-4464-918e-1928ebb52458",
   "metadata": {},
   "outputs": [],
   "source": [
    "import lib.decoder as decoder \n",
    "\n",
    "import matplotlib.pyplot as plt\n",
    "import numpy as np\n",
    "\n",
    "import torch.optim as optim\n",
    "import torch.nn as nn\n",
    "import torch\n",
    "\n",
    "\n",
    "\n",
    "import time\n",
    "\n",
    "from tqdm import tqdm"
   ]
  },
  {
   "cell_type": "code",
   "execution_count": 2,
   "id": "3d5bfd28-dccf-4418-84b9-4f30ffd25fd7",
   "metadata": {},
   "outputs": [],
   "source": [
    "gen = decoder.decoder(32, 'cpu')"
   ]
  },
  {
   "cell_type": "code",
   "execution_count": 3,
   "id": "c28289d1-468e-441c-9ffe-794d64b57bc8",
   "metadata": {},
   "outputs": [],
   "source": [
    "# Paramètres de l’orbite\n",
    "orbit = torch.zeros(1,1,3)\n",
    "\n",
    "orbit[:,0,0] = 0.5\n",
    "orbit[:,0,1] = np.deg2rad(45)\n",
    "orbit[:,0,2] = np.deg2rad(9)"
   ]
  },
  {
   "cell_type": "code",
   "execution_count": 4,
   "id": "97632bef-e8d8-4a01-94b4-22e79ed733a7",
   "metadata": {},
   "outputs": [],
   "source": [
    "gen_img = gen(orbit) # Image generation"
   ]
  },
  {
   "cell_type": "code",
   "execution_count": 5,
   "id": "63c91a94-5833-4c82-af44-9a24f4bad27c",
   "metadata": {},
   "outputs": [
    {
     "data": {
      "image/png": "[encoded data removed]",
      "text/plain": [
       "<Figure size 432x288 with 1 Axes>"
      ]
     },
     "metadata": {
      "needs_background": "light"
     },
     "output_type": "display_data"
    }
   ],
   "source": [
    "plt.figure()\n",
    "plt.imshow(gen_img.reshape(32,32).cpu())\n",
    "plt.show()"
   ]
  },
  {
   "cell_type": "markdown",
   "id": "qJ9yAfFoH_ly",
   "metadata": {
    "id": "qJ9yAfFoH_ly"
   },
   "source": [
    "## Dataset generation\n",
    "---\n",
    "\n"
   ]
  },
  {
   "cell_type": "code",
   "execution_count": 98,
   "id": "u_KVAvEz8qAe",
   "metadata": {
    "colab": {
     "base_uri": "https://localhost:8080/"
    },
    "id": "u_KVAvEz8qAe",
    "outputId": "80f38e08-6da4-4008-8ced-b359b1dae3f0"
   },
   "outputs": [],
   "source": [
    "K_train = 1_000\n",
    "K_test= 1000\n",
    "\n",
    "img_size = 32\n",
    "\n",
    "gen = decoder.decoder(img_size, \"cpu\") # Generator\n",
    "def gen_dataset(N):\n",
    "  orbit = torch.zeros(N,1,3)\n",
    "\n",
    "  orbit[:,0,0] = torch.rand(N)*0.5\n",
    "  orbit[:,0,1] = np.deg2rad(torch.rand(N)*20+25)#np.deg2rad(torch.rand(N)*20)\n",
    "  orbit[:,0,2] = np.deg2rad(torch.rand(N)*20-10)\n",
    "\n",
    "  gen_img = gen(orbit) # Image generation\n",
    "  return orbit, gen_img\n",
    "\n",
    "orbit_test, gen_img_test = gen_dataset(K_test)\n",
    "orbit_train, gen_img_train = gen_dataset(K_train)\n"
   ]
  },
  {
   "cell_type": "code",
   "execution_count": 99,
   "id": "ReFrF-51ILOd",
   "metadata": {
    "colab": {
     "base_uri": "https://localhost:8080/"
    },
    "id": "ReFrF-51ILOd",
    "outputId": "17b9f5d2-027d-42da-ee6a-494f2e8189ab"
   },
   "outputs": [
    {
     "data": {
      "text/plain": [
       "torch.Size([1000, 1024])"
      ]
     },
     "execution_count": 99,
     "metadata": {},
     "output_type": "execute_result"
    }
   ],
   "source": [
    "gen_img_test.shape"
   ]
  },
  {
   "cell_type": "code",
   "execution_count": 100,
   "id": "48bf6f00-42dd-4aaa-b3df-5e8eaddb9399",
   "metadata": {
    "id": "48bf6f00-42dd-4aaa-b3df-5e8eaddb9399"
   },
   "outputs": [],
   "source": [
    "from torch.utils.data import TensorDataset, DataLoader\n",
    "\n",
    "dataset_test = TensorDataset(gen_img_test, orbit_test)\n",
    "dataset_train = TensorDataset(gen_img_train, orbit_train)"
   ]
  },
  {
   "cell_type": "code",
   "execution_count": 101,
   "id": "0LDanRQeL85s",
   "metadata": {
    "id": "0LDanRQeL85s"
   },
   "outputs": [],
   "source": [
    "loader_train = DataLoader(dataset_train, batch_size=10, shuffle=True)\n",
    "loader_test = DataLoader(dataset_test, batch_size=10, shuffle=False)"
   ]
  },
  {
   "cell_type": "markdown",
   "id": "UZfufFlYb93O",
   "metadata": {
    "id": "UZfufFlYb93O"
   },
   "source": [
    "## Training"
   ]
  },
  {
   "cell_type": "code",
   "execution_count": 102,
   "id": "YZBZn8vNMHRS",
   "metadata": {
    "id": "YZBZn8vNMHRS"
   },
   "outputs": [],
   "source": [
    "mse = torch.nn.MSELoss()\n",
    "lambda_ = 0.\n",
    "def single_epoch(lr, dataloader, optimizer, train = True, device = \"cpu\"):\n",
    "    l_label_item = 0\n",
    "    l_physics_item = 0\n",
    "    for img, orbit_label in dataloader:\n",
    "        img = img.to(device)\n",
    "        orbit_label = orbit_label.to(device)\n",
    "\n",
    "        orbit_pred = net(img)\n",
    "        \n",
    "        \n",
    "        ecc = orbit_pred[:,0]\n",
    "        inc = orbit_pred[:,1]\n",
    "        argper = orbit_pred[:,2]\n",
    "\n",
    "\n",
    "        l_label = mse(torch.stack((ecc,inc,argper),dim=-1)[:,None,:], orbit_label)\n",
    "       \n",
    "        img_from_pred = gen(torch.stack((torch.clamp(ecc,0,0.5),inc,argper),dim=-1)[:,None,:]).to(device)\n",
    "        l_physics = mse(img_from_pred, img)\n",
    "        \n",
    "        \n",
    "        \n",
    "        l = lambda_ * l_label +  (1-lambda_) * l_physics\n",
    "\n",
    "\n",
    "        l_label_item += l_label.item()/len(dataloader)\n",
    "        l_physics_item += l_physics.item()/len(dataloader)\n",
    "\n",
    "        if train:\n",
    "            optimizer.zero_grad()\n",
    "            l.backward()\n",
    "            optimizer.step()\n",
    "\n",
    "    return l_label_item, l_physics_item"
   ]
  },
  {
   "cell_type": "code",
   "execution_count": 103,
   "id": "HD7-AdqtNDrJ",
   "metadata": {
    "id": "HD7-AdqtNDrJ"
   },
   "outputs": [],
   "source": [
    "loss_label = {\"test\" : [], \"train\" : [] }\n",
    "loss_physics = {\"test\" : [], \"train\" : [] }\n",
    "\n",
    "def train(net, nbr_iter = 100, lr = 0.001 , progressbar = True, start = 0 ):\n",
    "\n",
    "    net = net.to(device)\n",
    "\n",
    "    if progressbar:\n",
    "        loop_obj = tqdm(range(start, nbr_iter,1))\n",
    "    else :\n",
    "        loop_obj = range(nbr_iter)\n",
    "\n",
    "\n",
    "    optimizer = optim.Adam(net.parameters(), lr=lr,betas=(0.9,0.99))\n",
    "    # optimizer = optim.SGD(net.parameters())\n",
    "\n",
    "    for e in loop_obj:\n",
    "        t_start_epoch = time.time()\n",
    "\n",
    "\n",
    "        l_label_item, l_physics_item = single_epoch(lr, tqdm(loader_train), optimizer, train = True, device = device)\n",
    "        loss_label[\"train\"].append(l_label_item)\n",
    "        loss_physics[\"train\"].append(l_physics_item)\n",
    "\n",
    "        l_label_item, l_physics_item = single_epoch(lr, tqdm(loader_test), optimizer, train = False, device = device)\n",
    "        loss_label[\"test\"].append(l_label_item)\n",
    "        loss_physics[\"test\"].append(l_physics_item)\n",
    "\n",
    "\n",
    "\n",
    "        loss_label_train, loss_label_test = (loss_label[\"train\"][-1]), (loss_label[\"test\"][-1])\n",
    "        loss_physics_train, loss_physics_test = (loss_physics[\"train\"][-1]), (loss_physics[\"test\"][-1])\n",
    "\n",
    "        # torch.save({\n",
    "        #     'epoch': e,\n",
    "        #     'model_state_dict': net.state_dict(),\n",
    "        #     'optimizer_state_dict': optimizer.state_dict(),\n",
    "        #     'loss_pred_train': loss_pred_train,\n",
    "        #     'loss_pred_test': loss_pred_test,\n",
    "        #     'learning_rate' : lr\n",
    "        #     }, path + \"/model_\"+str(e)+\".pth\")\n",
    "\n",
    "\n",
    "\n",
    "        print(f\"Epoch duration : {(time.time() - t_start_epoch)/60} minutes \")\n",
    "        print(\"----- Loss function values -------\")\n",
    "        print(\"Train set\")\n",
    "        print(f\"Loss_label: {loss_label_train}  -- Loss_physics: {loss_physics_train} \")\n",
    "        print(\"Test set \")\n",
    "        print(f\"Loss_label: {loss_label_test}  -- Loss_physics: {loss_physics_test} \")\n",
    "\n",
    "        # if progressbar:\n",
    "        #     loop_obj.set_description(f\"Loss_pred_train: {loss_pred_train},  Loss_pred_test: {loss_pred_test}\")"
   ]
  },
  {
   "cell_type": "code",
   "execution_count": 104,
   "id": "iFRQ2xiGPONq",
   "metadata": {
    "id": "iFRQ2xiGPONq"
   },
   "outputs": [],
   "source": [
    "net = torch.nn.Sequential(nn.Linear(img_size**2, 24),\n",
    "                          nn.ReLU(),\n",
    "                          nn.Linear(24, 24),\n",
    "                          nn.ReLU(),\n",
    "                          nn.Linear(24, 24),\n",
    "                          nn.ReLU(),\n",
    "                          nn.Linear(24, 3)\n",
    "\n",
    "                          )"
   ]
  },
  {
   "cell_type": "code",
   "execution_count": 105,
   "id": "zZ0261PkNIR-",
   "metadata": {
    "colab": {
     "base_uri": "https://localhost:8080/",
     "height": 1000
    },
    "id": "zZ0261PkNIR-",
    "outputId": "5fa2c297-457c-4cc8-d61e-bc54786dc8ae"
   },
   "outputs": [
    {
     "name": "stderr",
     "output_type": "stream",
     "text": [
      "100%|█████████████████████████████████████████| 100/100 [00:01<00:00, 64.89it/s]\n",
      "100%|████████████████████████████████████████| 100/100 [00:00<00:00, 251.71it/s]\n"
     ]
    },
    {
     "name": "stdout",
     "output_type": "stream",
     "text": [
      "Epoch duration : 0.032416001955668135 minutes \n",
      "----- Loss function values -------\n",
      "Train set\n",
      "Loss_label: 0.15559205219149594  -- Loss_physics: 0.00089337351906579 \n",
      "Test set \n",
      "Loss_label: 0.15527115151286122  -- Loss_physics: 0.0008274852554313837 \n"
     ]
    },
    {
     "name": "stderr",
     "output_type": "stream",
     "text": [
      "100%|█████████████████████████████████████████| 100/100 [00:01<00:00, 68.39it/s]\n",
      "100%|████████████████████████████████████████| 100/100 [00:00<00:00, 256.02it/s]\n"
     ]
    },
    {
     "name": "stdout",
     "output_type": "stream",
     "text": [
      "Epoch duration : 0.03093488613764445 minutes \n",
      "----- Loss function values -------\n",
      "Train set\n",
      "Loss_label: 0.16147049218416212  -- Loss_physics: 0.0007612437987700105 \n",
      "Test set \n",
      "Loss_label: 0.1662965679168702  -- Loss_physics: 0.0007033372146543116 \n"
     ]
    },
    {
     "name": "stderr",
     "output_type": "stream",
     "text": [
      "100%|█████████████████████████████████████████| 100/100 [00:01<00:00, 81.94it/s]\n",
      "100%|████████████████████████████████████████| 100/100 [00:00<00:00, 273.80it/s]\n"
     ]
    },
    {
     "name": "stdout",
     "output_type": "stream",
     "text": [
      "Epoch duration : 0.026481032371520996 minutes \n",
      "----- Loss function values -------\n",
      "Train set\n",
      "Loss_label: 0.17824409887194637  -- Loss_physics: 0.0006021915585733952 \n",
      "Test set \n",
      "Loss_label: 0.18600821182131766  -- Loss_physics: 0.000540523601230234 \n"
     ]
    },
    {
     "name": "stderr",
     "output_type": "stream",
     "text": [
      "100%|█████████████████████████████████████████| 100/100 [00:01<00:00, 80.03it/s]\n",
      "100%|████████████████████████████████████████| 100/100 [00:00<00:00, 279.22it/s]\n"
     ]
    },
    {
     "name": "stdout",
     "output_type": "stream",
     "text": [
      "Epoch duration : 0.026848419507344564 minutes \n",
      "----- Loss function values -------\n",
      "Train set\n",
      "Loss_label: 0.19203322336077697  -- Loss_physics: 0.0005104480215231891 \n",
      "Test set \n",
      "Loss_label: 0.19823215201497074  -- Loss_physics: 0.0004932406800799073 \n"
     ]
    },
    {
     "name": "stderr",
     "output_type": "stream",
     "text": [
      "100%|█████████████████████████████████████████| 100/100 [00:01<00:00, 80.83it/s]\n",
      "100%|████████████████████████████████████████| 100/100 [00:00<00:00, 276.49it/s]\n"
     ]
    },
    {
     "name": "stdout",
     "output_type": "stream",
     "text": [
      "Epoch duration : 0.02670671542485555 minutes \n",
      "----- Loss function values -------\n",
      "Train set\n",
      "Loss_label: 0.20819957360625274  -- Loss_physics: 0.00047440857917536034 \n",
      "Test set \n",
      "Loss_label: 0.21766520872712125  -- Loss_physics: 0.0004685978373163381 \n"
     ]
    },
    {
     "name": "stderr",
     "output_type": "stream",
     "text": [
      "100%|█████████████████████████████████████████| 100/100 [00:01<00:00, 80.43it/s]\n",
      "100%|████████████████████████████████████████| 100/100 [00:00<00:00, 271.36it/s]\n"
     ]
    },
    {
     "name": "stdout",
     "output_type": "stream",
     "text": [
      "Epoch duration : 0.026915415128072103 minutes \n",
      "----- Loss function values -------\n",
      "Train set\n",
      "Loss_label: 0.22347168654203414  -- Loss_physics: 0.0004603557355585509 \n",
      "Test set \n",
      "Loss_label: 0.2230953861773014  -- Loss_physics: 0.000462059864657931 \n"
     ]
    },
    {
     "name": "stderr",
     "output_type": "stream",
     "text": [
      "100%|█████████████████████████████████████████| 100/100 [00:01<00:00, 82.14it/s]\n",
      "100%|████████████████████████████████████████| 100/100 [00:00<00:00, 252.45it/s]\n"
     ]
    },
    {
     "name": "stdout",
     "output_type": "stream",
     "text": [
      "Epoch duration : 0.026938382784525552 minutes \n",
      "----- Loss function values -------\n",
      "Train set\n",
      "Loss_label: 0.22086715862154963  -- Loss_physics: 0.00045542088715592376 \n",
      "Test set \n",
      "Loss_label: 0.21740952014923104  -- Loss_physics: 0.0004568849175120705 \n"
     ]
    },
    {
     "name": "stderr",
     "output_type": "stream",
     "text": [
      "100%|█████████████████████████████████████████| 100/100 [00:01<00:00, 82.65it/s]\n",
      "100%|████████████████████████████████████████| 100/100 [00:00<00:00, 264.69it/s]\n"
     ]
    },
    {
     "name": "stdout",
     "output_type": "stream",
     "text": [
      "Epoch duration : 0.02652221918106079 minutes \n",
      "----- Loss function values -------\n",
      "Train set\n",
      "Loss_label: 0.21075873926281932  -- Loss_physics: 0.00044965107517782595 \n",
      "Test set \n",
      "Loss_label: 0.20217554599046705  -- Loss_physics: 0.00044987377361394476 \n"
     ]
    },
    {
     "name": "stderr",
     "output_type": "stream",
     "text": [
      "100%|█████████████████████████████████████████| 100/100 [00:01<00:00, 76.57it/s]\n",
      "100%|████████████████████████████████████████| 100/100 [00:00<00:00, 260.33it/s]\n"
     ]
    },
    {
     "name": "stdout",
     "output_type": "stream",
     "text": [
      "Epoch duration : 0.028231032689412437 minutes \n",
      "----- Loss function values -------\n",
      "Train set\n",
      "Loss_label: 0.1943005113303662  -- Loss_physics: 0.00044167849730001766 \n",
      "Test set \n",
      "Loss_label: 0.1847332176566124  -- Loss_physics: 0.0004399553028633819 \n"
     ]
    },
    {
     "name": "stderr",
     "output_type": "stream",
     "text": [
      "100%|█████████████████████████████████████████| 100/100 [00:01<00:00, 72.05it/s]\n",
      "100%|████████████████████████████████████████| 100/100 [00:00<00:00, 261.85it/s]\n"
     ]
    },
    {
     "name": "stdout",
     "output_type": "stream",
     "text": [
      "Epoch duration : 0.029553000132242838 minutes \n",
      "----- Loss function values -------\n",
      "Train set\n",
      "Loss_label: 0.17402368277311328  -- Loss_physics: 0.00043055985501268886 \n",
      "Test set \n",
      "Loss_label: 0.16221251651644716  -- Loss_physics: 0.0004268028854858131 \n"
     ]
    },
    {
     "name": "stderr",
     "output_type": "stream",
     "text": [
      "100%|█████████████████████████████████████████| 100/100 [00:01<00:00, 79.38it/s]\n",
      "100%|████████████████████████████████████████| 100/100 [00:00<00:00, 257.12it/s]\n"
     ]
    },
    {
     "name": "stdout",
     "output_type": "stream",
     "text": [
      "Epoch duration : 0.02753381331761678 minutes \n",
      "----- Loss function values -------\n",
      "Train set\n",
      "Loss_label: 0.1495123863965273  -- Loss_physics: 0.00041440385917667304 \n",
      "Test set \n",
      "Loss_label: 0.1372764194756747  -- Loss_physics: 0.00040789819089695836 \n"
     ]
    },
    {
     "name": "stderr",
     "output_type": "stream",
     "text": [
      "100%|█████████████████████████████████████████| 100/100 [00:01<00:00, 74.67it/s]\n",
      "100%|████████████████████████████████████████| 100/100 [00:00<00:00, 246.03it/s]\n"
     ]
    },
    {
     "name": "stdout",
     "output_type": "stream",
     "text": [
      "Epoch duration : 0.029159581661224364 minutes \n",
      "----- Loss function values -------\n",
      "Train set\n",
      "Loss_label: 0.1243530757725239  -- Loss_physics: 0.0003956815181300044 \n",
      "Test set \n",
      "Loss_label: 0.11108327150344847  -- Loss_physics: 0.00039032063970807936 \n"
     ]
    },
    {
     "name": "stderr",
     "output_type": "stream",
     "text": [
      "100%|█████████████████████████████████████████| 100/100 [00:01<00:00, 82.48it/s]\n",
      "100%|████████████████████████████████████████| 100/100 [00:00<00:00, 277.28it/s]\n"
     ]
    },
    {
     "name": "stdout",
     "output_type": "stream",
     "text": [
      "Epoch duration : 0.026273266474405924 minutes \n",
      "----- Loss function values -------\n",
      "Train set\n",
      "Loss_label: 0.10015475131571294  -- Loss_physics: 0.000378909146238584 \n",
      "Test set \n",
      "Loss_label: 0.09003133438527582  -- Loss_physics: 0.0003749001707183196 \n"
     ]
    },
    {
     "name": "stderr",
     "output_type": "stream",
     "text": [
      "100%|█████████████████████████████████████████| 100/100 [00:01<00:00, 80.53it/s]\n",
      "100%|████████████████████████████████████████| 100/100 [00:00<00:00, 260.92it/s]\n"
     ]
    },
    {
     "name": "stdout",
     "output_type": "stream",
     "text": [
      "Epoch duration : 0.02713773250579834 minutes \n",
      "----- Loss function values -------\n",
      "Train set\n",
      "Loss_label: 0.07981894869357348  -- Loss_physics: 0.000362970779533498 \n",
      "Test set \n",
      "Loss_label: 0.07029429208487271  -- Loss_physics: 0.0003590014560904821 \n"
     ]
    },
    {
     "name": "stderr",
     "output_type": "stream",
     "text": [
      "100%|█████████████████████████████████████████| 100/100 [00:01<00:00, 80.42it/s]\n",
      "100%|████████████████████████████████████████| 100/100 [00:00<00:00, 271.12it/s]\n"
     ]
    },
    {
     "name": "stdout",
     "output_type": "stream",
     "text": [
      "Epoch duration : 0.026930272579193115 minutes \n",
      "----- Loss function values -------\n",
      "Train set\n",
      "Loss_label: 0.0625259090214968  -- Loss_physics: 0.00034640148791368117 \n",
      "Test set \n",
      "Loss_label: 0.056713436096906655  -- Loss_physics: 0.00034414736292092134 \n"
     ]
    },
    {
     "name": "stderr",
     "output_type": "stream",
     "text": [
      "100%|█████████████████████████████████████████| 100/100 [00:01<00:00, 80.54it/s]\n",
      "100%|████████████████████████████████████████| 100/100 [00:00<00:00, 263.30it/s]\n"
     ]
    },
    {
     "name": "stdout",
     "output_type": "stream",
     "text": [
      "Epoch duration : 0.027080114682515463 minutes \n",
      "----- Loss function values -------\n",
      "Train set\n",
      "Loss_label: 0.052141402866691354  -- Loss_physics: 0.0003345798571535851 \n",
      "Test set \n",
      "Loss_label: 0.04940892612561584  -- Loss_physics: 0.000335912816808559 \n"
     ]
    },
    {
     "name": "stderr",
     "output_type": "stream",
     "text": [
      "100%|█████████████████████████████████████████| 100/100 [00:01<00:00, 81.82it/s]\n",
      "100%|████████████████████████████████████████| 100/100 [00:00<00:00, 260.25it/s]\n"
     ]
    },
    {
     "name": "stdout",
     "output_type": "stream",
     "text": [
      "Epoch duration : 0.02683131694793701 minutes \n",
      "----- Loss function values -------\n",
      "Train set\n",
      "Loss_label: 0.045981752127408966  -- Loss_physics: 0.00032638049189699826 \n",
      "Test set \n",
      "Loss_label: 0.040832821391522896  -- Loss_physics: 0.0003255054903274866 \n"
     ]
    },
    {
     "name": "stderr",
     "output_type": "stream",
     "text": [
      "100%|█████████████████████████████████████████| 100/100 [00:01<00:00, 79.23it/s]\n",
      "100%|████████████████████████████████████████| 100/100 [00:00<00:00, 260.56it/s]\n"
     ]
    },
    {
     "name": "stdout",
     "output_type": "stream",
     "text": [
      "Epoch duration : 0.02749481201171875 minutes \n",
      "----- Loss function values -------\n",
      "Train set\n",
      "Loss_label: 0.028909045951440924  -- Loss_physics: 0.0002951837099681143 \n",
      "Test set \n",
      "Loss_label: 0.01761106352787465  -- Loss_physics: 0.00026440833862579894 \n"
     ]
    },
    {
     "name": "stderr",
     "output_type": "stream",
     "text": [
      "100%|█████████████████████████████████████████| 100/100 [00:01<00:00, 77.99it/s]\n",
      "100%|████████████████████████████████████████| 100/100 [00:00<00:00, 256.12it/s]\n"
     ]
    },
    {
     "name": "stdout",
     "output_type": "stream",
     "text": [
      "Epoch duration : 0.02793518304824829 minutes \n",
      "----- Loss function values -------\n",
      "Train set\n",
      "Loss_label: 0.011679884104523806  -- Loss_physics: 0.0002209707620204426 \n",
      "Test set \n",
      "Loss_label: 0.00828569011995569  -- Loss_physics: 0.00019823462716885845 \n"
     ]
    },
    {
     "name": "stderr",
     "output_type": "stream",
     "text": [
      "100%|█████████████████████████████████████████| 100/100 [00:01<00:00, 76.94it/s]\n",
      "100%|████████████████████████████████████████| 100/100 [00:00<00:00, 261.75it/s]\n"
     ]
    },
    {
     "name": "stdout",
     "output_type": "stream",
     "text": [
      "Epoch duration : 0.028081146876017253 minutes \n",
      "----- Loss function values -------\n",
      "Train set\n",
      "Loss_label: 0.006944446831475942  -- Loss_physics: 0.0001723914059402887 \n",
      "Test set \n",
      "Loss_label: 0.006237923295702784  -- Loss_physics: 0.0001587288244627416 \n"
     ]
    },
    {
     "name": "stderr",
     "output_type": "stream",
     "text": [
      "100%|█████████████████████████████████████████| 100/100 [00:01<00:00, 78.54it/s]\n",
      "100%|████████████████████████████████████████| 100/100 [00:00<00:00, 267.08it/s]\n"
     ]
    },
    {
     "name": "stdout",
     "output_type": "stream",
     "text": [
      "Epoch duration : 0.027528051535288492 minutes \n",
      "----- Loss function values -------\n",
      "Train set\n",
      "Loss_label: 0.005723600671626627  -- Loss_physics: 0.0001463809303822927 \n",
      "Test set \n",
      "Loss_label: 0.005360648211790249  -- Loss_physics: 0.00013680231641046702 \n"
     ]
    },
    {
     "name": "stderr",
     "output_type": "stream",
     "text": [
      "100%|█████████████████████████████████████████| 100/100 [00:01<00:00, 81.36it/s]\n",
      "100%|████████████████████████████████████████| 100/100 [00:00<00:00, 259.91it/s]\n"
     ]
    },
    {
     "name": "stdout",
     "output_type": "stream",
     "text": [
      "Epoch duration : 0.026953629652659097 minutes \n",
      "----- Loss function values -------\n",
      "Train set\n",
      "Loss_label: 0.004968315629521386  -- Loss_physics: 0.00012899281864520162 \n",
      "Test set \n",
      "Loss_label: 0.004679352503735572  -- Loss_physics: 0.0001206301604543114 \n"
     ]
    },
    {
     "name": "stderr",
     "output_type": "stream",
     "text": [
      "100%|█████████████████████████████████████████| 100/100 [00:01<00:00, 78.44it/s]\n",
      "100%|████████████████████████████████████████| 100/100 [00:00<00:00, 261.94it/s]\n"
     ]
    },
    {
     "name": "stdout",
     "output_type": "stream",
     "text": [
      "Epoch duration : 0.027671531836191813 minutes \n",
      "----- Loss function values -------\n",
      "Train set\n",
      "Loss_label: 0.0042907827300950885  -- Loss_physics: 0.00011426281565945831 \n",
      "Test set \n",
      "Loss_label: 0.003895469937706366  -- Loss_physics: 0.000106555280945031 \n"
     ]
    },
    {
     "name": "stderr",
     "output_type": "stream",
     "text": [
      "100%|█████████████████████████████████████████| 100/100 [00:01<00:00, 81.77it/s]\n",
      "100%|████████████████████████████████████████| 100/100 [00:00<00:00, 238.95it/s]\n"
     ]
    },
    {
     "name": "stdout",
     "output_type": "stream",
     "text": [
      "Epoch duration : 0.027417445182800294 minutes \n",
      "----- Loss function values -------\n",
      "Train set\n",
      "Loss_label: 0.0036671480705263095  -- Loss_physics: 0.00010084373934660106 \n",
      "Test set \n",
      "Loss_label: 0.0032912969251628977  -- Loss_physics: 9.343939211248656e-05 \n"
     ]
    },
    {
     "name": "stderr",
     "output_type": "stream",
     "text": [
      "100%|█████████████████████████████████████████| 100/100 [00:01<00:00, 81.71it/s]\n",
      "100%|████████████████████████████████████████| 100/100 [00:00<00:00, 266.69it/s]\n"
     ]
    },
    {
     "name": "stdout",
     "output_type": "stream",
     "text": [
      "Epoch duration : 0.026699415842692056 minutes \n",
      "----- Loss function values -------\n",
      "Train set\n",
      "Loss_label: 0.003001931762555613  -- Loss_physics: 8.612701141828442e-05 \n",
      "Test set \n",
      "Loss_label: 0.002700852675479836  -- Loss_physics: 7.772366359859003e-05 \n"
     ]
    },
    {
     "name": "stderr",
     "output_type": "stream",
     "text": [
      "100%|█████████████████████████████████████████| 100/100 [00:01<00:00, 77.49it/s]\n",
      "100%|████████████████████████████████████████| 100/100 [00:00<00:00, 265.76it/s]\n"
     ]
    },
    {
     "name": "stdout",
     "output_type": "stream",
     "text": [
      "Epoch duration : 0.027836950620015462 minutes \n",
      "----- Loss function values -------\n",
      "Train set\n",
      "Loss_label: 0.002323588623548857  -- Loss_physics: 6.782883707273868e-05 \n",
      "Test set \n",
      "Loss_label: 0.001993107863818295  -- Loss_physics: 5.8987872034776965e-05 \n"
     ]
    },
    {
     "name": "stderr",
     "output_type": "stream",
     "text": [
      "100%|█████████████████████████████████████████| 100/100 [00:01<00:00, 79.61it/s]\n",
      "100%|████████████████████████████████████████| 100/100 [00:00<00:00, 260.72it/s]\n"
     ]
    },
    {
     "name": "stdout",
     "output_type": "stream",
     "text": [
      "Epoch duration : 0.027393019199371337 minutes \n",
      "----- Loss function values -------\n",
      "Train set\n",
      "Loss_label: 0.0017505006154533472  -- Loss_physics: 5.573430376898613e-05 \n",
      "Test set \n",
      "Loss_label: 0.0017204996320651842  -- Loss_physics: 5.8584094658726834e-05 \n"
     ]
    },
    {
     "name": "stderr",
     "output_type": "stream",
     "text": [
      "100%|█████████████████████████████████████████| 100/100 [00:01<00:00, 75.67it/s]\n",
      "100%|████████████████████████████████████████| 100/100 [00:00<00:00, 250.79it/s]\n"
     ]
    },
    {
     "name": "stdout",
     "output_type": "stream",
     "text": [
      "Epoch duration : 0.028724730014801025 minutes \n",
      "----- Loss function values -------\n",
      "Train set\n",
      "Loss_label: 0.001629885177244433  -- Loss_physics: 5.401392761996249e-05 \n",
      "Test set \n",
      "Loss_label: 0.0016493800477473998  -- Loss_physics: 5.524593001609901e-05 \n"
     ]
    },
    {
     "name": "stderr",
     "output_type": "stream",
     "text": [
      "100%|█████████████████████████████████████████| 100/100 [00:01<00:00, 79.68it/s]\n",
      "100%|████████████████████████████████████████| 100/100 [00:00<00:00, 262.84it/s]\n"
     ]
    },
    {
     "name": "stdout",
     "output_type": "stream",
     "text": [
      "Epoch duration : 0.02731404701868693 minutes \n",
      "----- Loss function values -------\n",
      "Train set\n",
      "Loss_label: 0.0015395710675511517  -- Loss_physics: 5.1233307294751286e-05 \n",
      "Test set \n",
      "Loss_label: 0.0015566516146645881  -- Loss_physics: 5.287684794893723e-05 \n"
     ]
    },
    {
     "name": "stderr",
     "output_type": "stream",
     "text": [
      "100%|█████████████████████████████████████████| 100/100 [00:01<00:00, 82.00it/s]\n",
      "100%|████████████████████████████████████████| 100/100 [00:00<00:00, 272.69it/s]\n"
     ]
    },
    {
     "name": "stdout",
     "output_type": "stream",
     "text": [
      "Epoch duration : 0.026495118935902912 minutes \n",
      "----- Loss function values -------\n",
      "Train set\n",
      "Loss_label: 0.0014555804108385931  -- Loss_physics: 4.887038983724778e-05 \n",
      "Test set \n",
      "Loss_label: 0.001474103691289201  -- Loss_physics: 5.0745340067805956e-05 \n"
     ]
    },
    {
     "name": "stderr",
     "output_type": "stream",
     "text": [
      "100%|█████████████████████████████████████████| 100/100 [00:01<00:00, 78.00it/s]\n",
      "100%|████████████████████████████████████████| 100/100 [00:00<00:00, 258.77it/s]\n"
     ]
    },
    {
     "name": "stdout",
     "output_type": "stream",
     "text": [
      "Epoch duration : 0.027866582075754803 minutes \n",
      "----- Loss function values -------\n",
      "Train set\n",
      "Loss_label: 0.0013662508805282417  -- Loss_physics: 4.668763231165941e-05 \n",
      "Test set \n",
      "Loss_label: 0.0013919261572300466  -- Loss_physics: 4.866954559474834e-05 \n"
     ]
    },
    {
     "name": "stderr",
     "output_type": "stream",
     "text": [
      "100%|█████████████████████████████████████████| 100/100 [00:01<00:00, 80.15it/s]\n",
      "100%|████████████████████████████████████████| 100/100 [00:00<00:00, 231.25it/s]\n"
     ]
    },
    {
     "name": "stdout",
     "output_type": "stream",
     "text": [
      "Epoch duration : 0.028069154421488444 minutes \n",
      "----- Loss function values -------\n",
      "Train set\n",
      "Loss_label: 0.0012877753414795737  -- Loss_physics: 4.4643156379606834e-05 \n",
      "Test set \n",
      "Loss_label: 0.0013092151979799383  -- Loss_physics: 4.6680445720994625e-05 \n"
     ]
    },
    {
     "name": "stderr",
     "output_type": "stream",
     "text": [
      "100%|█████████████████████████████████████████| 100/100 [00:01<00:00, 78.04it/s]\n",
      "100%|████████████████████████████████████████| 100/100 [00:00<00:00, 267.63it/s]\n"
     ]
    },
    {
     "name": "stdout",
     "output_type": "stream",
     "text": [
      "Epoch duration : 0.027640732129414876 minutes \n",
      "----- Loss function values -------\n",
      "Train set\n",
      "Loss_label: 0.001206185748742428  -- Loss_physics: 4.257332342604057e-05 \n",
      "Test set \n",
      "Loss_label: 0.0012390317843528464  -- Loss_physics: 4.469427916774294e-05 \n"
     ]
    },
    {
     "name": "stderr",
     "output_type": "stream",
     "text": [
      "100%|█████████████████████████████████████████| 100/100 [00:01<00:00, 76.70it/s]\n",
      "100%|████████████████████████████████████████| 100/100 [00:00<00:00, 271.49it/s]\n"
     ]
    },
    {
     "name": "stdout",
     "output_type": "stream",
     "text": [
      "Epoch duration : 0.02792291243871053 minutes \n",
      "----- Loss function values -------\n",
      "Train set\n",
      "Loss_label: 0.0011328581441193825  -- Loss_physics: 4.0595448745079934e-05 \n",
      "Test set \n",
      "Loss_label: 0.0011603110629948784  -- Loss_physics: 4.2753277266456257e-05 \n"
     ]
    },
    {
     "name": "stderr",
     "output_type": "stream",
     "text": [
      "100%|█████████████████████████████████████████| 100/100 [00:01<00:00, 79.99it/s]\n",
      "100%|████████████████████████████████████████| 100/100 [00:00<00:00, 268.02it/s]\n"
     ]
    },
    {
     "name": "stdout",
     "output_type": "stream",
     "text": [
      "Epoch duration : 0.027107914288838703 minutes \n",
      "----- Loss function values -------\n",
      "Train set\n",
      "Loss_label: 0.0010562114257481883  -- Loss_physics: 3.859449187984863e-05 \n",
      "Test set \n",
      "Loss_label: 0.0010867079204763287  -- Loss_physics: 4.091622090527381e-05 \n"
     ]
    },
    {
     "name": "stderr",
     "output_type": "stream",
     "text": [
      "100%|█████████████████████████████████████████| 100/100 [00:01<00:00, 80.42it/s]\n",
      "100%|████████████████████████████████████████| 100/100 [00:00<00:00, 261.12it/s]\n"
     ]
    },
    {
     "name": "stdout",
     "output_type": "stream",
     "text": [
      "Epoch duration : 0.027164546648661296 minutes \n",
      "----- Loss function values -------\n",
      "Train set\n",
      "Loss_label: 0.000988978382665664  -- Loss_physics: 3.6711161819766864e-05 \n",
      "Test set \n",
      "Loss_label: 0.001008616231847555  -- Loss_physics: 3.9057955264070187e-05 \n"
     ]
    },
    {
     "name": "stderr",
     "output_type": "stream",
     "text": [
      "100%|█████████████████████████████████████████| 100/100 [00:01<00:00, 79.99it/s]\n",
      "100%|████████████████████████████████████████| 100/100 [00:00<00:00, 267.85it/s]\n"
     ]
    },
    {
     "name": "stdout",
     "output_type": "stream",
     "text": [
      "Epoch duration : 0.027114446957906088 minutes \n",
      "----- Loss function values -------\n",
      "Train set\n",
      "Loss_label: 0.0009165740237222056  -- Loss_physics: 3.4833235640689975e-05 \n",
      "Test set \n",
      "Loss_label: 0.0009477498104388361  -- Loss_physics: 3.72372272067878e-05 \n"
     ]
    },
    {
     "name": "stderr",
     "output_type": "stream",
     "text": [
      "100%|█████████████████████████████████████████| 100/100 [00:01<00:00, 80.17it/s]\n",
      "100%|████████████████████████████████████████| 100/100 [00:00<00:00, 188.74it/s]\n"
     ]
    },
    {
     "name": "stdout",
     "output_type": "stream",
     "text": [
      "Epoch duration : 0.02968240181605021 minutes \n",
      "----- Loss function values -------\n",
      "Train set\n",
      "Loss_label: 0.0008540233915846335  -- Loss_physics: 3.296950994808867e-05 \n",
      "Test set \n",
      "Loss_label: 0.0008831747391377578  -- Loss_physics: 3.5438667518974396e-05 \n"
     ]
    },
    {
     "name": "stderr",
     "output_type": "stream",
     "text": [
      "100%|█████████████████████████████████████████| 100/100 [00:01<00:00, 79.35it/s]\n",
      "100%|████████████████████████████████████████| 100/100 [00:00<00:00, 257.68it/s]\n"
     ]
    },
    {
     "name": "stdout",
     "output_type": "stream",
     "text": [
      "Epoch duration : 0.027529601256052652 minutes \n",
      "----- Loss function values -------\n",
      "Train set\n",
      "Loss_label: 0.0007945427543018011  -- Loss_physics: 3.12447605210764e-05 \n",
      "Test set \n",
      "Loss_label: 0.0008315868405043146  -- Loss_physics: 3.381140079000033e-05 \n"
     ]
    },
    {
     "name": "stderr",
     "output_type": "stream",
     "text": [
      "100%|█████████████████████████████████████████| 100/100 [00:01<00:00, 79.52it/s]\n",
      "100%|████████████████████████████████████████| 100/100 [00:00<00:00, 270.08it/s]\n"
     ]
    },
    {
     "name": "stdout",
     "output_type": "stream",
     "text": [
      "Epoch duration : 0.027185869216918946 minutes \n",
      "----- Loss function values -------\n",
      "Train set\n",
      "Loss_label: 0.0007377888628980146  -- Loss_physics: 2.9615260064019822e-05 \n",
      "Test set \n",
      "Loss_label: 0.0007766461088613139  -- Loss_physics: 3.226691445888717e-05 \n"
     ]
    },
    {
     "name": "stderr",
     "output_type": "stream",
     "text": [
      "100%|█████████████████████████████████████████| 100/100 [00:01<00:00, 63.16it/s]\n",
      "100%|████████████████████████████████████████| 100/100 [00:00<00:00, 205.78it/s]\n"
     ]
    },
    {
     "name": "stdout",
     "output_type": "stream",
     "text": [
      "Epoch duration : 0.034538833300272624 minutes \n",
      "----- Loss function values -------\n",
      "Train set\n",
      "Loss_label: 0.0006906347213953267  -- Loss_physics: 2.8081780283173432e-05 \n",
      "Test set \n",
      "Loss_label: 0.0007266548600455277  -- Loss_physics: 3.091684983701269e-05 \n"
     ]
    },
    {
     "name": "stderr",
     "output_type": "stream",
     "text": [
      "100%|█████████████████████████████████████████| 100/100 [00:01<00:00, 80.29it/s]\n",
      "100%|████████████████████████████████████████| 100/100 [00:00<00:00, 274.65it/s]\n"
     ]
    },
    {
     "name": "stdout",
     "output_type": "stream",
     "text": [
      "Epoch duration : 0.026875034968058268 minutes \n",
      "----- Loss function values -------\n",
      "Train set\n",
      "Loss_label: 0.0006473868756438606  -- Loss_physics: 2.6771942348204903e-05 \n",
      "Test set \n",
      "Loss_label: 0.0006814993658917956  -- Loss_physics: 2.956412002731667e-05 \n"
     ]
    },
    {
     "name": "stderr",
     "output_type": "stream",
     "text": [
      "100%|█████████████████████████████████████████| 100/100 [00:01<00:00, 80.78it/s]\n",
      "100%|████████████████████████████████████████| 100/100 [00:00<00:00, 272.20it/s]\n"
     ]
    },
    {
     "name": "stdout",
     "output_type": "stream",
     "text": [
      "Epoch duration : 0.02680283784866333 minutes \n",
      "----- Loss function values -------\n",
      "Train set\n",
      "Loss_label: 0.000607472837436944  -- Loss_physics: 2.5556333303029525e-05 \n",
      "Test set \n",
      "Loss_label: 0.0006455118196026885  -- Loss_physics: 2.840625636054028e-05 \n"
     ]
    },
    {
     "name": "stderr",
     "output_type": "stream",
     "text": [
      "100%|█████████████████████████████████████████| 100/100 [00:01<00:00, 83.45it/s]\n",
      "100%|████████████████████████████████████████| 100/100 [00:00<00:00, 277.98it/s]\n"
     ]
    },
    {
     "name": "stdout",
     "output_type": "stream",
     "text": [
      "Epoch duration : 0.026014121373494466 minutes \n",
      "----- Loss function values -------\n",
      "Train set\n",
      "Loss_label: 0.0005734681976173304  -- Loss_physics: 2.4466894237775716e-05 \n",
      "Test set \n",
      "Loss_label: 0.0006086036565829998  -- Loss_physics: 2.7318700572323e-05 \n"
     ]
    },
    {
     "name": "stderr",
     "output_type": "stream",
     "text": [
      "100%|█████████████████████████████████████████| 100/100 [00:01<00:00, 82.20it/s]\n",
      "100%|████████████████████████████████████████| 100/100 [00:00<00:00, 251.07it/s]\n"
     ]
    },
    {
     "name": "stdout",
     "output_type": "stream",
     "text": [
      "Epoch duration : 0.026969913641611734 minutes \n",
      "----- Loss function values -------\n",
      "Train set\n",
      "Loss_label: 0.0005414205427223349  -- Loss_physics: 2.3465915764973032e-05 \n",
      "Test set \n",
      "Loss_label: 0.0005807645901222714  -- Loss_physics: 2.6185549318142884e-05 \n"
     ]
    },
    {
     "name": "stderr",
     "output_type": "stream",
     "text": [
      "100%|█████████████████████████████████████████| 100/100 [00:01<00:00, 79.44it/s]\n",
      "100%|████████████████████████████████████████| 100/100 [00:00<00:00, 268.78it/s]\n"
     ]
    },
    {
     "name": "stdout",
     "output_type": "stream",
     "text": [
      "Epoch duration : 0.02723295291264852 minutes \n",
      "----- Loss function values -------\n",
      "Train set\n",
      "Loss_label: 0.0005130106811702715  -- Loss_physics: 2.232678020391177e-05 \n",
      "Test set \n",
      "Loss_label: 0.0005489746654347982  -- Loss_physics: 2.4649974975545774e-05 \n"
     ]
    },
    {
     "name": "stderr",
     "output_type": "stream",
     "text": [
      "100%|█████████████████████████████████████████| 100/100 [00:01<00:00, 82.21it/s]\n",
      "100%|████████████████████████████████████████| 100/100 [00:00<00:00, 262.94it/s]\n"
     ]
    },
    {
     "name": "stdout",
     "output_type": "stream",
     "text": [
      "Epoch duration : 0.02666249672571818 minutes \n",
      "----- Loss function values -------\n",
      "Train set\n",
      "Loss_label: 0.00047961803371435993  -- Loss_physics: 2.072012070584606e-05 \n",
      "Test set \n",
      "Loss_label: 0.0005112971350899896  -- Loss_physics: 2.2686681322738878e-05 \n"
     ]
    },
    {
     "name": "stderr",
     "output_type": "stream",
     "text": [
      "100%|█████████████████████████████████████████| 100/100 [00:01<00:00, 83.63it/s]\n",
      "100%|████████████████████████████████████████| 100/100 [00:00<00:00, 260.19it/s]\n"
     ]
    },
    {
     "name": "stdout",
     "output_type": "stream",
     "text": [
      "Epoch duration : 0.02638616959253947 minutes \n",
      "----- Loss function values -------\n",
      "Train set\n",
      "Loss_label: 0.00044573426101123914  -- Loss_physics: 1.885691667666833e-05 \n",
      "Test set \n",
      "Loss_label: 0.00047463266397244295  -- Loss_physics: 2.0664336302615998e-05 \n"
     ]
    },
    {
     "name": "stderr",
     "output_type": "stream",
     "text": [
      "100%|█████████████████████████████████████████| 100/100 [00:01<00:00, 79.41it/s]\n",
      "100%|████████████████████████████████████████| 100/100 [00:00<00:00, 257.82it/s]\n"
     ]
    },
    {
     "name": "stdout",
     "output_type": "stream",
     "text": [
      "Epoch duration : 0.02750763495763143 minutes \n",
      "----- Loss function values -------\n",
      "Train set\n",
      "Loss_label: 0.000413841057161335  -- Loss_physics: 1.715838046493445e-05 \n",
      "Test set \n",
      "Loss_label: 0.00043646184174576773  -- Loss_physics: 1.8844272135538633e-05 \n"
     ]
    },
    {
     "name": "stderr",
     "output_type": "stream",
     "text": [
      "100%|█████████████████████████████████████████| 100/100 [00:01<00:00, 65.41it/s]\n",
      "100%|████████████████████████████████████████| 100/100 [00:00<00:00, 211.61it/s]\n"
     ]
    },
    {
     "name": "stdout",
     "output_type": "stream",
     "text": [
      "Epoch duration : 0.0334133505821228 minutes \n",
      "----- Loss function values -------\n",
      "Train set\n",
      "Loss_label: 0.0003803941188380123  -- Loss_physics: 1.5597931837874058e-05 \n",
      "Test set \n",
      "Loss_label: 0.0004030684036115418  -- Loss_physics: 1.7165586109513244e-05 \n"
     ]
    },
    {
     "name": "stderr",
     "output_type": "stream",
     "text": [
      "100%|█████████████████████████████████████████| 100/100 [00:01<00:00, 78.43it/s]\n",
      "100%|████████████████████████████████████████| 100/100 [00:00<00:00, 260.74it/s]\n"
     ]
    },
    {
     "name": "stdout",
     "output_type": "stream",
     "text": [
      "Epoch duration : 0.027694610754648845 minutes \n",
      "----- Loss function values -------\n",
      "Train set\n",
      "Loss_label: 0.0003539199731312693  -- Loss_physics: 1.430023492503096e-05 \n",
      "Test set \n",
      "Loss_label: 0.00037624265467457025  -- Loss_physics: 1.5968993989190497e-05 \n"
     ]
    },
    {
     "name": "stderr",
     "output_type": "stream",
     "text": [
      "100%|█████████████████████████████████████████| 100/100 [00:01<00:00, 79.30it/s]\n",
      "100%|████████████████████████████████████████| 100/100 [00:00<00:00, 270.22it/s]\n"
     ]
    },
    {
     "name": "stdout",
     "output_type": "stream",
     "text": [
      "Epoch duration : 0.027239028612772623 minutes \n",
      "----- Loss function values -------\n",
      "Train set\n",
      "Loss_label: 0.0003357461840641917  -- Loss_physics: 1.3414816310159953e-05 \n",
      "Test set \n",
      "Loss_label: 0.00036085502979403826  -- Loss_physics: 1.5102047059372121e-05 \n"
     ]
    },
    {
     "name": "stderr",
     "output_type": "stream",
     "text": [
      "100%|█████████████████████████████████████████| 100/100 [00:01<00:00, 81.37it/s]\n",
      "100%|████████████████████████████████████████| 100/100 [00:00<00:00, 273.77it/s]\n"
     ]
    },
    {
     "name": "stdout",
     "output_type": "stream",
     "text": [
      "Epoch duration : 0.026623213291168214 minutes \n",
      "----- Loss function values -------\n",
      "Train set\n",
      "Loss_label: 0.0003213755075557855  -- Loss_physics: 1.275152450034511e-05 \n",
      "Test set \n",
      "Loss_label: 0.0003435728548356564  -- Loss_physics: 1.4402095021068818e-05 \n"
     ]
    },
    {
     "name": "stderr",
     "output_type": "stream",
     "text": [
      "100%|█████████████████████████████████████████| 100/100 [00:01<00:00, 84.12it/s]\n",
      "100%|████████████████████████████████████████| 100/100 [00:00<00:00, 276.41it/s]\n"
     ]
    },
    {
     "name": "stdout",
     "output_type": "stream",
     "text": [
      "Epoch duration : 0.025895118713378906 minutes \n",
      "----- Loss function values -------\n",
      "Train set\n",
      "Loss_label: 0.00047478401233092877  -- Loss_physics: 2.6372770644229608e-05 \n",
      "Test set \n",
      "Loss_label: 0.0005183561159356032  -- Loss_physics: 2.986678788147401e-05 \n"
     ]
    },
    {
     "name": "stderr",
     "output_type": "stream",
     "text": [
      "100%|█████████████████████████████████████████| 100/100 [00:01<00:00, 83.66it/s]\n",
      "100%|████████████████████████████████████████| 100/100 [00:00<00:00, 242.60it/s]\n"
     ]
    },
    {
     "name": "stdout",
     "output_type": "stream",
     "text": [
      "Epoch duration : 0.026843317349751792 minutes \n",
      "----- Loss function values -------\n",
      "Train set\n",
      "Loss_label: 0.00046551805178751226  -- Loss_physics: 2.5914327011378184e-05 \n",
      "Test set \n",
      "Loss_label: 0.0004894007035181857  -- Loss_physics: 2.76133271290746e-05 \n"
     ]
    },
    {
     "name": "stderr",
     "output_type": "stream",
     "text": [
      "100%|█████████████████████████████████████████| 100/100 [00:01<00:00, 82.52it/s]\n",
      "100%|████████████████████████████████████████| 100/100 [00:00<00:00, 274.58it/s]\n"
     ]
    },
    {
     "name": "stdout",
     "output_type": "stream",
     "text": [
      "Epoch duration : 0.026314882437388103 minutes \n",
      "----- Loss function values -------\n",
      "Train set\n",
      "Loss_label: 0.00043570396264840393  -- Loss_physics: 2.3695411528024124e-05 \n",
      "Test set \n",
      "Loss_label: 0.0004566406588128303  -- Loss_physics: 2.542446425650269e-05 \n"
     ]
    },
    {
     "name": "stderr",
     "output_type": "stream",
     "text": [
      "100%|█████████████████████████████████████████| 100/100 [00:01<00:00, 80.85it/s]\n",
      "100%|████████████████████████████████████████| 100/100 [00:00<00:00, 274.35it/s]\n"
     ]
    },
    {
     "name": "stdout",
     "output_type": "stream",
     "text": [
      "Epoch duration : 0.0267416516939799 minutes \n",
      "----- Loss function values -------\n",
      "Train set\n",
      "Loss_label: 0.00040607420116430166  -- Loss_physics: 2.1486993582584535e-05 \n",
      "Test set \n",
      "Loss_label: 0.00042940420054947024  -- Loss_physics: 2.330742536287289e-05 \n"
     ]
    },
    {
     "name": "stderr",
     "output_type": "stream",
     "text": [
      "100%|█████████████████████████████████████████| 100/100 [00:01<00:00, 79.48it/s]\n",
      "100%|████████████████████████████████████████| 100/100 [00:00<00:00, 278.67it/s]\n"
     ]
    },
    {
     "name": "stdout",
     "output_type": "stream",
     "text": [
      "Epoch duration : 0.02699993848800659 minutes \n",
      "----- Loss function values -------\n",
      "Train set\n",
      "Loss_label: 0.00037930913495074517  -- Loss_physics: 1.95245093664198e-05 \n",
      "Test set \n",
      "Loss_label: 0.00040202329633757476  -- Loss_physics: 2.1378081810325967e-05 \n"
     ]
    },
    {
     "name": "stderr",
     "output_type": "stream",
     "text": [
      "100%|█████████████████████████████████████████| 100/100 [00:01<00:00, 84.30it/s]\n",
      "100%|████████████████████████████████████████| 100/100 [00:00<00:00, 256.50it/s]\n"
     ]
    },
    {
     "name": "stdout",
     "output_type": "stream",
     "text": [
      "Epoch duration : 0.026316765944163004 minutes \n",
      "----- Loss function values -------\n",
      "Train set\n",
      "Loss_label: 0.000356101950746961  -- Loss_physics: 1.7858766634617494e-05 \n",
      "Test set \n",
      "Loss_label: 0.0003822167930047725  -- Loss_physics: 1.983018802548032e-05 \n"
     ]
    },
    {
     "name": "stderr",
     "output_type": "stream",
     "text": [
      "100%|█████████████████████████████████████████| 100/100 [00:01<00:00, 83.44it/s]\n",
      "100%|████████████████████████████████████████| 100/100 [00:00<00:00, 271.39it/s]\n"
     ]
    },
    {
     "name": "stdout",
     "output_type": "stream",
     "text": [
      "Epoch duration : 0.02616358200709025 minutes \n",
      "----- Loss function values -------\n",
      "Train set\n",
      "Loss_label: 0.0003371881568455138  -- Loss_physics: 1.652162489790499e-05 \n",
      "Test set \n",
      "Loss_label: 0.00036209532248903997  -- Loss_physics: 1.8483060766811832e-05 \n"
     ]
    },
    {
     "name": "stderr",
     "output_type": "stream",
     "text": [
      "100%|█████████████████████████████████████████| 100/100 [00:01<00:00, 83.44it/s]\n",
      "100%|████████████████████████████████████████| 100/100 [00:00<00:00, 278.81it/s]\n"
     ]
    },
    {
     "name": "stdout",
     "output_type": "stream",
     "text": [
      "Epoch duration : 0.02600833574930827 minutes \n",
      "----- Loss function values -------\n",
      "Train set\n",
      "Loss_label: 0.00032170229882467523  -- Loss_physics: 1.5422903152284563e-05 \n",
      "Test set \n",
      "Loss_label: 0.0003459326627489645  -- Loss_physics: 1.7284949026361558e-05 \n"
     ]
    },
    {
     "name": "stderr",
     "output_type": "stream",
     "text": [
      "100%|█████████████████████████████████████████| 100/100 [00:01<00:00, 80.29it/s]\n",
      "100%|████████████████████████████████████████| 100/100 [00:00<00:00, 270.64it/s]\n"
     ]
    },
    {
     "name": "stdout",
     "output_type": "stream",
     "text": [
      "Epoch duration : 0.026969818274180095 minutes \n",
      "----- Loss function values -------\n",
      "Train set\n",
      "Loss_label: 0.0003078421901591355  -- Loss_physics: 1.4439139881687874e-05 \n",
      "Test set \n",
      "Loss_label: 0.00032900326870731087  -- Loss_physics: 1.617915503629774e-05 \n"
     ]
    },
    {
     "name": "stderr",
     "output_type": "stream",
     "text": [
      "100%|█████████████████████████████████████████| 100/100 [00:01<00:00, 83.72it/s]\n",
      "100%|████████████████████████████████████████| 100/100 [00:00<00:00, 280.28it/s]\n"
     ]
    },
    {
     "name": "stdout",
     "output_type": "stream",
     "text": [
      "Epoch duration : 0.025902982552846274 minutes \n",
      "----- Loss function values -------\n",
      "Train set\n",
      "Loss_label: 0.00029573262509074993  -- Loss_physics: 1.355473289095243e-05 \n",
      "Test set \n",
      "Loss_label: 0.00031761017307871945  -- Loss_physics: 1.5246537986968177e-05 \n"
     ]
    },
    {
     "name": "stderr",
     "output_type": "stream",
     "text": [
      "100%|█████████████████████████████████████████| 100/100 [00:01<00:00, 74.50it/s]\n",
      "100%|████████████████████████████████████████| 100/100 [00:00<00:00, 267.33it/s]\n"
     ]
    },
    {
     "name": "stdout",
     "output_type": "stream",
     "text": [
      "Epoch duration : 0.028656999270121258 minutes \n",
      "----- Loss function values -------\n",
      "Train set\n",
      "Loss_label: 0.0002849089149094652  -- Loss_physics: 1.2770442053806616e-05 \n",
      "Test set \n",
      "Loss_label: 0.00030429447746428207  -- Loss_physics: 1.4416261101359852e-05 \n"
     ]
    },
    {
     "name": "stderr",
     "output_type": "stream",
     "text": [
      "100%|█████████████████████████████████████████| 100/100 [00:01<00:00, 83.43it/s]\n",
      "100%|████████████████████████████████████████| 100/100 [00:00<00:00, 278.43it/s]\n"
     ]
    },
    {
     "name": "stdout",
     "output_type": "stream",
     "text": [
      "Epoch duration : 0.026021647453308105 minutes \n",
      "----- Loss function values -------\n",
      "Train set\n",
      "Loss_label: 0.00027494031273818116  -- Loss_physics: 1.2097525641365795e-05 \n",
      "Test set \n",
      "Loss_label: 0.0002946807085390901  -- Loss_physics: 1.363275172479916e-05 \n"
     ]
    },
    {
     "name": "stderr",
     "output_type": "stream",
     "text": [
      "100%|█████████████████████████████████████████| 100/100 [00:01<00:00, 80.99it/s]\n",
      "100%|████████████████████████████████████████| 100/100 [00:00<00:00, 276.66it/s]\n"
     ]
    },
    {
     "name": "stdout",
     "output_type": "stream",
     "text": [
      "Epoch duration : 0.026652602354685466 minutes \n",
      "----- Loss function values -------\n",
      "Train set\n",
      "Loss_label: 0.0002672080592310522  -- Loss_physics: 1.151652213366105e-05 \n",
      "Test set \n",
      "Loss_label: 0.00028529044633614827  -- Loss_physics: 1.2970229590791868e-05 \n"
     ]
    },
    {
     "name": "stderr",
     "output_type": "stream",
     "text": [
      "100%|█████████████████████████████████████████| 100/100 [00:01<00:00, 83.15it/s]\n",
      "100%|████████████████████████████████████████| 100/100 [00:00<00:00, 266.96it/s]\n"
     ]
    },
    {
     "name": "stdout",
     "output_type": "stream",
     "text": [
      "Epoch duration : 0.02634063164393107 minutes \n",
      "----- Loss function values -------\n",
      "Train set\n",
      "Loss_label: 0.0002599126160203013  -- Loss_physics: 1.1005997248503264e-05 \n",
      "Test set \n",
      "Loss_label: 0.00027939825820794785  -- Loss_physics: 1.2478445526085129e-05 \n"
     ]
    },
    {
     "name": "stderr",
     "output_type": "stream",
     "text": [
      "100%|█████████████████████████████████████████| 100/100 [00:01<00:00, 70.55it/s]\n",
      "100%|████████████████████████████████████████| 100/100 [00:00<00:00, 206.49it/s]\n"
     ]
    },
    {
     "name": "stdout",
     "output_type": "stream",
     "text": [
      "Epoch duration : 0.03174519936243693 minutes \n",
      "----- Loss function values -------\n",
      "Train set\n",
      "Loss_label: 0.0002548087358445628  -- Loss_physics: 1.0616555273372802e-05 \n",
      "Test set \n",
      "Loss_label: 0.0002729262507637032  -- Loss_physics: 1.204004026249095e-05 \n"
     ]
    },
    {
     "name": "stderr",
     "output_type": "stream",
     "text": [
      "100%|█████████████████████████████████████████| 100/100 [00:01<00:00, 67.30it/s]\n",
      "100%|████████████████████████████████████████| 100/100 [00:00<00:00, 211.84it/s]\n"
     ]
    },
    {
     "name": "stdout",
     "output_type": "stream",
     "text": [
      "Epoch duration : 0.03268051942189534 minutes \n",
      "----- Loss function values -------\n",
      "Train set\n",
      "Loss_label: 0.00024977886158012553  -- Loss_physics: 1.0306515205229515e-05 \n",
      "Test set \n",
      "Loss_label: 0.0002682679867575644  -- Loss_physics: 1.172579178728483e-05 \n"
     ]
    },
    {
     "name": "stderr",
     "output_type": "stream",
     "text": [
      "100%|█████████████████████████████████████████| 100/100 [00:01<00:00, 64.94it/s]\n",
      "100%|████████████████████████████████████████| 100/100 [00:00<00:00, 263.18it/s]\n"
     ]
    },
    {
     "name": "stdout",
     "output_type": "stream",
     "text": [
      "Epoch duration : 0.03205423355102539 minutes \n",
      "----- Loss function values -------\n",
      "Train set\n",
      "Loss_label: 0.00024628000675875207  -- Loss_physics: 1.0102502951667699e-05 \n",
      "Test set \n",
      "Loss_label: 0.000262576475070091  -- Loss_physics: 1.1423851697145434e-05 \n"
     ]
    },
    {
     "name": "stderr",
     "output_type": "stream",
     "text": [
      "100%|█████████████████████████████████████████| 100/100 [00:01<00:00, 76.09it/s]\n",
      "100%|████████████████████████████████████████| 100/100 [00:00<00:00, 208.81it/s]\n"
     ]
    },
    {
     "name": "stdout",
     "output_type": "stream",
     "text": [
      "Epoch duration : 0.029939786593119303 minutes \n",
      "----- Loss function values -------\n",
      "Train set\n",
      "Loss_label: 0.00024207502607168863  -- Loss_physics: 9.87295977665781e-06 \n",
      "Test set \n",
      "Loss_label: 0.00025870898032735566  -- Loss_physics: 1.1172991517014454e-05 \n"
     ]
    },
    {
     "name": "stderr",
     "output_type": "stream",
     "text": [
      "100%|█████████████████████████████████████████| 100/100 [00:01<00:00, 67.70it/s]\n",
      "100%|████████████████████████████████████████| 100/100 [00:00<00:00, 236.73it/s]\n"
     ]
    },
    {
     "name": "stdout",
     "output_type": "stream",
     "text": [
      "Epoch duration : 0.03170873324076335 minutes \n",
      "----- Loss function values -------\n",
      "Train set\n",
      "Loss_label: 0.0002387080973858246  -- Loss_physics: 9.713046749766366e-06 \n",
      "Test set \n",
      "Loss_label: 0.00025776065398531496  -- Loss_physics: 1.1176337716278797e-05 \n"
     ]
    },
    {
     "name": "stderr",
     "output_type": "stream",
     "text": [
      "100%|█████████████████████████████████████████| 100/100 [00:01<00:00, 68.43it/s]\n",
      "100%|████████████████████████████████████████| 100/100 [00:00<00:00, 245.59it/s]\n"
     ]
    },
    {
     "name": "stdout",
     "output_type": "stream",
     "text": [
      "Epoch duration : 0.031192636489868163 minutes \n",
      "----- Loss function values -------\n",
      "Train set\n",
      "Loss_label: 0.00023551274141937037  -- Loss_physics: 9.580783046203579e-06 \n",
      "Test set \n",
      "Loss_label: 0.00025221486292139163  -- Loss_physics: 1.085598788677089e-05 \n"
     ]
    },
    {
     "name": "stderr",
     "output_type": "stream",
     "text": [
      "100%|█████████████████████████████████████████| 100/100 [00:01<00:00, 75.79it/s]\n",
      "100%|████████████████████████████████████████| 100/100 [00:00<00:00, 276.20it/s]\n"
     ]
    },
    {
     "name": "stdout",
     "output_type": "stream",
     "text": [
      "Epoch duration : 0.028077781200408936 minutes \n",
      "----- Loss function values -------\n",
      "Train set\n",
      "Loss_label: 0.00023320126383623576  -- Loss_physics: 9.457463145281503e-06 \n",
      "Test set \n",
      "Loss_label: 0.0002489401746424846  -- Loss_physics: 1.0729981208896785e-05 \n"
     ]
    },
    {
     "name": "stderr",
     "output_type": "stream",
     "text": [
      "100%|█████████████████████████████████████████| 100/100 [00:01<00:00, 84.05it/s]\n",
      "100%|████████████████████████████████████████| 100/100 [00:00<00:00, 249.69it/s]\n"
     ]
    },
    {
     "name": "stdout",
     "output_type": "stream",
     "text": [
      "Epoch duration : 0.026556702454884847 minutes \n",
      "----- Loss function values -------\n",
      "Train set\n",
      "Loss_label: 0.00023114367788366514  -- Loss_physics: 9.378232600738562e-06 \n",
      "Test set \n",
      "Loss_label: 0.0002469385482254438  -- Loss_physics: 1.0642908332556546e-05 \n"
     ]
    },
    {
     "name": "stderr",
     "output_type": "stream",
     "text": [
      "100%|█████████████████████████████████████████| 100/100 [00:01<00:00, 77.56it/s]\n",
      "100%|████████████████████████████████████████| 100/100 [00:00<00:00, 274.73it/s]\n"
     ]
    },
    {
     "name": "stdout",
     "output_type": "stream",
     "text": [
      "Epoch duration : 0.027610266208648683 minutes \n",
      "----- Loss function values -------\n",
      "Train set\n",
      "Loss_label: 0.00022895430676726393  -- Loss_physics: 9.269954412047809e-06 \n",
      "Test set \n",
      "Loss_label: 0.00024459329812088977  -- Loss_physics: 1.0505657346584488e-05 \n"
     ]
    },
    {
     "name": "stderr",
     "output_type": "stream",
     "text": [
      "100%|█████████████████████████████████████████| 100/100 [00:01<00:00, 78.17it/s]\n",
      "100%|████████████████████████████████████████| 100/100 [00:00<00:00, 250.50it/s]\n"
     ]
    },
    {
     "name": "stdout",
     "output_type": "stream",
     "text": [
      "Epoch duration : 0.02802466551462809 minutes \n",
      "----- Loss function values -------\n",
      "Train set\n",
      "Loss_label: 0.000226512627741613  -- Loss_physics: 9.19050310130842e-06 \n",
      "Test set \n",
      "Loss_label: 0.00024126583943143487  -- Loss_physics: 1.0395658321158408e-05 \n"
     ]
    },
    {
     "name": "stderr",
     "output_type": "stream",
     "text": [
      "100%|█████████████████████████████████████████| 100/100 [00:01<00:00, 81.24it/s]\n",
      "100%|████████████████████████████████████████| 100/100 [00:00<00:00, 272.22it/s]\n"
     ]
    },
    {
     "name": "stdout",
     "output_type": "stream",
     "text": [
      "Epoch duration : 0.026689585049947104 minutes \n",
      "----- Loss function values -------\n",
      "Train set\n",
      "Loss_label: 0.00022422418391215615  -- Loss_physics: 9.084880390446417e-06 \n",
      "Test set \n",
      "Loss_label: 0.0002389064184535527  -- Loss_physics: 1.028493548119513e-05 \n"
     ]
    },
    {
     "name": "stderr",
     "output_type": "stream",
     "text": [
      "100%|█████████████████████████████████████████| 100/100 [00:01<00:00, 83.84it/s]\n",
      "100%|████████████████████████████████████████| 100/100 [00:00<00:00, 262.90it/s]\n"
     ]
    },
    {
     "name": "stdout",
     "output_type": "stream",
     "text": [
      "Epoch duration : 0.026273703575134276 minutes \n",
      "----- Loss function values -------\n",
      "Train set\n",
      "Loss_label: 0.0002220051838230574  -- Loss_physics: 8.986633124550279e-06 \n",
      "Test set \n",
      "Loss_label: 0.0002373843974783085  -- Loss_physics: 1.0224163520433653e-05 \n"
     ]
    },
    {
     "name": "stderr",
     "output_type": "stream",
     "text": [
      "100%|█████████████████████████████████████████| 100/100 [00:01<00:00, 80.97it/s]\n",
      "100%|████████████████████████████████████████| 100/100 [00:00<00:00, 274.92it/s]\n"
     ]
    },
    {
     "name": "stdout",
     "output_type": "stream",
     "text": [
      "Epoch duration : 0.02669572035471598 minutes \n",
      "----- Loss function values -------\n",
      "Train set\n",
      "Loss_label: 0.0002200272009940818  -- Loss_physics: 8.907213343718466e-06 \n",
      "Test set \n",
      "Loss_label: 0.000235586653725477  -- Loss_physics: 1.0152941201795328e-05 \n"
     ]
    },
    {
     "name": "stderr",
     "output_type": "stream",
     "text": [
      "100%|█████████████████████████████████████████| 100/100 [00:01<00:00, 82.39it/s]\n",
      "100%|████████████████████████████████████████| 100/100 [00:00<00:00, 271.52it/s]\n"
     ]
    },
    {
     "name": "stdout",
     "output_type": "stream",
     "text": [
      "Epoch duration : 0.026417879263559978 minutes \n",
      "----- Loss function values -------\n",
      "Train set\n",
      "Loss_label: 0.00021800149224873166  -- Loss_physics: 8.824692440612128e-06 \n",
      "Test set \n",
      "Loss_label: 0.00023303320289414832  -- Loss_physics: 1.0079138935452647e-05 \n"
     ]
    },
    {
     "name": "stderr",
     "output_type": "stream",
     "text": [
      "100%|█████████████████████████████████████████| 100/100 [00:01<00:00, 73.05it/s]\n",
      "100%|████████████████████████████████████████| 100/100 [00:00<00:00, 267.71it/s]\n"
     ]
    },
    {
     "name": "stdout",
     "output_type": "stream",
     "text": [
      "Epoch duration : 0.029091612497965495 minutes \n",
      "----- Loss function values -------\n",
      "Train set\n",
      "Loss_label: 0.00021674314943084024  -- Loss_physics: 8.772266805863183e-06 \n",
      "Test set \n",
      "Loss_label: 0.00023069644077622798  -- Loss_physics: 9.941923071892231e-06 \n"
     ]
    },
    {
     "name": "stderr",
     "output_type": "stream",
     "text": [
      "100%|█████████████████████████████████████████| 100/100 [00:01<00:00, 84.41it/s]\n",
      "100%|████████████████████████████████████████| 100/100 [00:00<00:00, 275.64it/s]\n"
     ]
    },
    {
     "name": "stdout",
     "output_type": "stream",
     "text": [
      "Epoch duration : 0.02584529717763265 minutes \n",
      "----- Loss function values -------\n",
      "Train set\n",
      "Loss_label: 0.00021354465745389455  -- Loss_physics: 8.660360380190465e-06 \n",
      "Test set \n",
      "Loss_label: 0.0002276845950109418  -- Loss_physics: 9.852664893514886e-06 \n"
     ]
    },
    {
     "name": "stderr",
     "output_type": "stream",
     "text": [
      "100%|█████████████████████████████████████████| 100/100 [00:01<00:00, 82.36it/s]\n",
      "100%|████████████████████████████████████████| 100/100 [00:00<00:00, 262.67it/s]\n"
     ]
    },
    {
     "name": "stdout",
     "output_type": "stream",
     "text": [
      "Epoch duration : 0.02663101355234782 minutes \n",
      "----- Loss function values -------\n",
      "Train set\n",
      "Loss_label: 0.00021127783264091705  -- Loss_physics: 8.58010601632486e-06 \n",
      "Test set \n",
      "Loss_label: 0.00022743791378161413  -- Loss_physics: 9.833905312461863e-06 \n"
     ]
    },
    {
     "name": "stderr",
     "output_type": "stream",
     "text": [
      "100%|█████████████████████████████████████████| 100/100 [00:01<00:00, 77.48it/s]\n",
      "100%|████████████████████████████████████████| 100/100 [00:00<00:00, 275.17it/s]\n"
     ]
    },
    {
     "name": "stdout",
     "output_type": "stream",
     "text": [
      "Epoch duration : 0.027616516749064127 minutes \n",
      "----- Loss function values -------\n",
      "Train set\n",
      "Loss_label: 0.0002095921889849706  -- Loss_physics: 8.510079892403155e-06 \n",
      "Test set \n",
      "Loss_label: 0.0002229841647204012  -- Loss_physics: 9.650390959450302e-06 \n"
     ]
    },
    {
     "name": "stderr",
     "output_type": "stream",
     "text": [
      "100%|█████████████████████████████████████████| 100/100 [00:01<00:00, 61.96it/s]\n",
      "100%|████████████████████████████████████████| 100/100 [00:00<00:00, 215.73it/s]\n"
     ]
    },
    {
     "name": "stdout",
     "output_type": "stream",
     "text": [
      "Epoch duration : 0.03467644850413005 minutes \n",
      "----- Loss function values -------\n",
      "Train set\n",
      "Loss_label: 0.00020816133124753832  -- Loss_physics: 8.438821613481193e-06 \n",
      "Test set \n",
      "Loss_label: 0.00022532040347869047  -- Loss_physics: 9.870754622625098e-06 \n"
     ]
    },
    {
     "name": "stderr",
     "output_type": "stream",
     "text": [
      "100%|█████████████████████████████████████████| 100/100 [00:01<00:00, 64.91it/s]\n",
      "100%|████████████████████████████████████████| 100/100 [00:00<00:00, 196.90it/s]\n"
     ]
    },
    {
     "name": "stdout",
     "output_type": "stream",
     "text": [
      "Epoch duration : 0.03419501781463623 minutes \n",
      "----- Loss function values -------\n",
      "Train set\n",
      "Loss_label: 0.0002056494419957744  -- Loss_physics: 8.349290594651399e-06 \n",
      "Test set \n",
      "Loss_label: 0.00021865192487894103  -- Loss_physics: 9.50978577293426e-06 \n"
     ]
    },
    {
     "name": "stderr",
     "output_type": "stream",
     "text": [
      "100%|█████████████████████████████████████████| 100/100 [00:01<00:00, 79.83it/s]\n",
      "100%|████████████████████████████████████████| 100/100 [00:00<00:00, 275.06it/s]\n"
     ]
    },
    {
     "name": "stdout",
     "output_type": "stream",
     "text": [
      "Epoch duration : 0.026990950107574463 minutes \n",
      "----- Loss function values -------\n",
      "Train set\n",
      "Loss_label: 0.00020354216609121066  -- Loss_physics: 8.271480789971979e-06 \n",
      "Test set \n",
      "Loss_label: 0.00021718262025387973  -- Loss_physics: 9.410260570348328e-06 \n"
     ]
    },
    {
     "name": "stderr",
     "output_type": "stream",
     "text": [
      "100%|█████████████████████████████████████████| 100/100 [00:01<00:00, 84.30it/s]\n",
      "100%|████████████████████████████████████████| 100/100 [00:00<00:00, 273.60it/s]\n"
     ]
    },
    {
     "name": "stdout",
     "output_type": "stream",
     "text": [
      "Epoch duration : 0.025917450586954754 minutes \n",
      "----- Loss function values -------\n",
      "Train set\n",
      "Loss_label: 0.00020107281372474967  -- Loss_physics: 8.184213538697802e-06 \n",
      "Test set \n",
      "Loss_label: 0.0002154602761584102  -- Loss_physics: 9.366287238208313e-06 \n"
     ]
    },
    {
     "name": "stderr",
     "output_type": "stream",
     "text": [
      "100%|█████████████████████████████████████████| 100/100 [00:01<00:00, 83.99it/s]\n",
      "100%|████████████████████████████████████████| 100/100 [00:00<00:00, 274.32it/s]\n"
     ]
    },
    {
     "name": "stdout",
     "output_type": "stream",
     "text": [
      "Epoch duration : 0.025969318548838296 minutes \n",
      "----- Loss function values -------\n",
      "Train set\n",
      "Loss_label: 0.00019914273332688028  -- Loss_physics: 8.115006706930216e-06 \n",
      "Test set \n",
      "Loss_label: 0.00021382745588198314  -- Loss_physics: 9.27095748920692e-06 \n"
     ]
    },
    {
     "name": "stderr",
     "output_type": "stream",
     "text": [
      "100%|█████████████████████████████████████████| 100/100 [00:01<00:00, 79.46it/s]\n",
      "100%|████████████████████████████████████████| 100/100 [00:00<00:00, 279.34it/s]\n"
     ]
    },
    {
     "name": "stdout",
     "output_type": "stream",
     "text": [
      "Epoch duration : 0.02699325084686279 minutes \n",
      "----- Loss function values -------\n",
      "Train set\n",
      "Loss_label: 0.00019764849297644103  -- Loss_physics: 8.027285039133856e-06 \n",
      "Test set \n",
      "Loss_label: 0.00021074567750474664  -- Loss_physics: 9.186679067170188e-06 \n"
     ]
    },
    {
     "name": "stderr",
     "output_type": "stream",
     "text": [
      "100%|█████████████████████████████████████████| 100/100 [00:01<00:00, 80.04it/s]\n",
      "100%|████████████████████████████████████████| 100/100 [00:00<00:00, 274.42it/s]\n"
     ]
    },
    {
     "name": "stdout",
     "output_type": "stream",
     "text": [
      "Epoch duration : 0.026944116751352946 minutes \n",
      "----- Loss function values -------\n",
      "Train set\n",
      "Loss_label: 0.000195346591535781  -- Loss_physics: 7.964625299337058e-06 \n",
      "Test set \n",
      "Loss_label: 0.0002093078214238631  -- Loss_physics: 9.125680815031956e-06 \n"
     ]
    },
    {
     "name": "stderr",
     "output_type": "stream",
     "text": [
      "100%|█████████████████████████████████████████| 100/100 [00:01<00:00, 82.99it/s]\n",
      "100%|████████████████████████████████████████| 100/100 [00:00<00:00, 278.11it/s]\n"
     ]
    },
    {
     "name": "stdout",
     "output_type": "stream",
     "text": [
      "Epoch duration : 0.02612764835357666 minutes \n",
      "----- Loss function values -------\n",
      "Train set\n",
      "Loss_label: 0.0001934970502043142  -- Loss_physics: 7.892403029927662e-06 \n",
      "Test set \n",
      "Loss_label: 0.0002076516862871358  -- Loss_physics: 9.060020784090738e-06 \n"
     ]
    },
    {
     "name": "stderr",
     "output_type": "stream",
     "text": [
      "100%|█████████████████████████████████████████| 100/100 [00:01<00:00, 77.32it/s]\n",
      "100%|████████████████████████████████████████| 100/100 [00:00<00:00, 273.10it/s]\n"
     ]
    },
    {
     "name": "stdout",
     "output_type": "stream",
     "text": [
      "Epoch duration : 0.027709698677062987 minutes \n",
      "----- Loss function values -------\n",
      "Train set\n",
      "Loss_label: 0.00019214709027437493  -- Loss_physics: 7.833815441244952e-06 \n",
      "Test set \n",
      "Loss_label: 0.00020525188261672153  -- Loss_physics: 8.971687248049425e-06 \n"
     ]
    },
    {
     "name": "stderr",
     "output_type": "stream",
     "text": [
      "100%|█████████████████████████████████████████| 100/100 [00:01<00:00, 84.30it/s]\n",
      "100%|████████████████████████████████████████| 100/100 [00:00<00:00, 266.79it/s]\n"
     ]
    },
    {
     "name": "stdout",
     "output_type": "stream",
     "text": [
      "Epoch duration : 0.026066553592681885 minutes \n",
      "----- Loss function values -------\n",
      "Train set\n",
      "Loss_label: 0.0001905982461175881  -- Loss_physics: 7.778781447314032e-06 \n",
      "Test set \n",
      "Loss_label: 0.00020406514806381887  -- Loss_physics: 8.919119654819951e-06 \n"
     ]
    },
    {
     "name": "stderr",
     "output_type": "stream",
     "text": [
      "100%|█████████████████████████████████████████| 100/100 [00:01<00:00, 82.53it/s]\n",
      "100%|████████████████████████████████████████| 100/100 [00:00<00:00, 272.50it/s]\n"
     ]
    },
    {
     "name": "stdout",
     "output_type": "stream",
     "text": [
      "Epoch duration : 0.026359299818674724 minutes \n",
      "----- Loss function values -------\n",
      "Train set\n",
      "Loss_label: 0.0001876638945032028  -- Loss_physics: 7.69200265949621e-06 \n",
      "Test set \n",
      "Loss_label: 0.0002031247688864824  -- Loss_physics: 8.889808825642832e-06 \n"
     ]
    },
    {
     "name": "stderr",
     "output_type": "stream",
     "text": [
      "100%|█████████████████████████████████████████| 100/100 [00:01<00:00, 81.74it/s]\n",
      "100%|████████████████████████████████████████| 100/100 [00:00<00:00, 256.79it/s]\n"
     ]
    },
    {
     "name": "stdout",
     "output_type": "stream",
     "text": [
      "Epoch duration : 0.02693401575088501 minutes \n",
      "----- Loss function values -------\n",
      "Train set\n",
      "Loss_label: 0.0001871124186800443  -- Loss_physics: 7.640852040822208e-06 \n",
      "Test set \n",
      "Loss_label: 0.00020086846063350092  -- Loss_physics: 8.796082443041089e-06 \n"
     ]
    },
    {
     "name": "stderr",
     "output_type": "stream",
     "text": [
      "100%|█████████████████████████████████████████| 100/100 [00:01<00:00, 81.84it/s]\n",
      "100%|████████████████████████████████████████| 100/100 [00:00<00:00, 205.96it/s]\n"
     ]
    },
    {
     "name": "stdout",
     "output_type": "stream",
     "text": [
      "Epoch duration : 0.028506481647491456 minutes \n",
      "----- Loss function values -------\n",
      "Train set\n",
      "Loss_label: 0.00018492552248062564  -- Loss_physics: 7.5724104181063e-06 \n",
      "Test set \n",
      "Loss_label: 0.000199495479791949  -- Loss_physics: 8.766091734742077e-06 \n"
     ]
    },
    {
     "name": "stderr",
     "output_type": "stream",
     "text": [
      "100%|█████████████████████████████████████████| 100/100 [00:01<00:00, 76.90it/s]\n",
      "100%|████████████████████████████████████████| 100/100 [00:00<00:00, 238.82it/s]\n"
     ]
    },
    {
     "name": "stdout",
     "output_type": "stream",
     "text": [
      "Epoch duration : 0.02870801289876302 minutes \n",
      "----- Loss function values -------\n",
      "Train set\n",
      "Loss_label: 0.00018287925671756964  -- Loss_physics: 7.486835440886354e-06 \n",
      "Test set \n",
      "Loss_label: 0.00019784591848292623  -- Loss_physics: 8.684096401339047e-06 \n"
     ]
    },
    {
     "name": "stderr",
     "output_type": "stream",
     "text": [
      "100%|█████████████████████████████████████████| 100/100 [00:01<00:00, 69.67it/s]\n",
      "100%|████████████████████████████████████████| 100/100 [00:00<00:00, 235.81it/s]"
     ]
    },
    {
     "name": "stdout",
     "output_type": "stream",
     "text": [
      "Epoch duration : 0.031045401096343996 minutes \n",
      "----- Loss function values -------\n",
      "Train set\n",
      "Loss_label: 0.00018103203929058508  -- Loss_physics: 7.421895188599593e-06 \n",
      "Test set \n",
      "Loss_label: 0.0001952492403142969  -- Loss_physics: 8.573982540838188e-06 \n"
     ]
    },
    {
     "name": "stderr",
     "output_type": "stream",
     "text": [
      "\n"
     ]
    }
   ],
   "source": [
    "device = \"cpu\"#\"cuda:0\"\n",
    "train(net, nbr_iter = 100, lr = 0.0001, progressbar = False )"
   ]
  },
  {
   "cell_type": "markdown",
   "id": "thfjZ6OTuh4Z",
   "metadata": {
    "id": "thfjZ6OTuh4Z"
   },
   "source": [
    "## Testing\n",
    "\n",
    "---"
   ]
  },
  {
   "cell_type": "code",
   "execution_count": 106,
   "id": "RhrubM1VNIUG",
   "metadata": {
    "colab": {
     "base_uri": "https://localhost:8080/"
    },
    "id": "RhrubM1VNIUG",
    "outputId": "82e11926-f0ee-48ee-cbff-67ea39a9fb6c"
   },
   "outputs": [],
   "source": [
    "orbit = torch.zeros(1,1,3)\n",
    "\n",
    "orbit[:,0,0] = 0.4\n",
    "orbit[:,0,1] = np.deg2rad(45)#np.deg2rad(2)\n",
    "orbit[:,0,2] = np.deg2rad(9)\n",
    "\n",
    "gen_img = gen(orbit) # Image generation"
   ]
  },
  {
   "cell_type": "code",
   "execution_count": 107,
   "id": "0TEY94gkZr8A",
   "metadata": {
    "id": "0TEY94gkZr8A"
   },
   "outputs": [],
   "source": [
    "res = net(gen_img.to(\"cpu\"))"
   ]
  },
  {
   "cell_type": "code",
   "execution_count": 108,
   "id": "oByXJDFXaK6H",
   "metadata": {
    "colab": {
     "base_uri": "https://localhost:8080/"
    },
    "id": "oByXJDFXaK6H",
    "outputId": "c59b377a-21ad-4e26-e896-9f4d5c9328d5"
   },
   "outputs": [
    {
     "name": "stdout",
     "output_type": "stream",
     "text": [
      "MSE error 5.864212289452553e-05\n",
      "tensor([[0.4107, 0.7786, 0.1609]], grad_fn=<AddmmBackward0>)\n",
      "tensor([[[0.4000, 0.7854, 0.1571]]])\n"
     ]
    }
   ],
   "source": [
    "print(\"MSE error\", mse(orbit, res.cpu()).item())\n",
    "print(res)\n",
    "print(orbit)"
   ]
  },
  {
   "cell_type": "code",
   "execution_count": 109,
   "id": "ot_20fRzaCR4",
   "metadata": {
    "colab": {
     "base_uri": "https://localhost:8080/"
    },
    "id": "ot_20fRzaCR4",
    "outputId": "549655e8-6f21-4518-bac8-b21bc85f06b8"
   },
   "outputs": [],
   "source": [
    "gen_img_from_nn = gen(res[:,None,:])"
   ]
  },
  {
   "cell_type": "code",
   "execution_count": 110,
   "id": "kKjB-zEPaFep",
   "metadata": {
    "colab": {
     "base_uri": "https://localhost:8080/",
     "height": 308
    },
    "id": "kKjB-zEPaFep",
    "outputId": "2816af8f-72eb-4b17-b477-365070712e4e"
   },
   "outputs": [
    {
     "data": {
      "image/png": "[encoded data removed]",
      "text/plain": [
       "<Figure size 432x288 with 2 Axes>"
      ]
     },
     "metadata": {
      "needs_background": "light"
     },
     "output_type": "display_data"
    }
   ],
   "source": [
    "fig , ax = plt.subplots(1,2)\n",
    "ax[0].imshow(gen_img.reshape(32,32).detach().cpu())\n",
    "ax[0].set_title(\"GT\")\n",
    "ax[1].imshow(gen_img_from_nn.reshape(32,32).detach().cpu())\n",
    "ax[1].set_title(\"NN prediction\")\n",
    "plt.show()"
   ]
  },
  {
   "cell_type": "code",
   "execution_count": null,
   "id": "dc02b50c-3445-463c-b341-f245c1cbf3d9",
   "metadata": {},
   "outputs": [],
   "source": []
  },
  {
   "cell_type": "code",
   "execution_count": null,
   "id": "78b9dfb1-2d2b-4e3a-9636-ab1092c303ea",
   "metadata": {},
   "outputs": [],
   "source": []
  },
  {
   "cell_type": "code",
   "execution_count": null,
   "id": "011d4cd6-ff5e-43ef-a7c9-3222da9470b7",
   "metadata": {},
   "outputs": [],
   "source": []
  },
  {
   "cell_type": "code",
   "execution_count": null,
   "id": "f37b3a04-43cd-424e-a2cc-0bdab8012a19",
   "metadata": {},
   "outputs": [],
   "source": []
  }
 ],
 "metadata": {
  "kernelspec": {
   "display_name": "Python 3 (ipykernel)",
   "language": "python",
   "name": "python3"
  },
  "language_info": {
   "codemirror_mode": {
    "name": "ipython",
    "version": 3
   },
   "file_extension": ".py",
   "mimetype": "text/x-python",
   "name": "python",
   "nbconvert_exporter": "python",
   "pygments_lexer": "ipython3",
   "version": "3.10.5"
  }
 },
 "nbformat": 4,
 "nbformat_minor": 5
}
