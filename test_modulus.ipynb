{
 "cells": [
  {
   "cell_type": "code",
   "execution_count": null,
   "id": "b564dc8a-e16c-4f2d-822a-a80ae7ccf05a",
   "metadata": {},
   "outputs": [],
   "source": [
    "#%pip install nvidia-modulus nvidia-modulus-sym==1.6.0"
   ]
  },
  {
   "cell_type": "code",
   "execution_count": null,
   "id": "6b6cee3d-cc07-4176-b3d5-9eb5785ab9cd",
   "metadata": {},
   "outputs": [],
   "source": [
    "import torch\n",
    "import numpy as np\n",
    "import matplotlib.pyplot as plt\n",
    "\n",
    "from modulus.sym.hydra import instantiate_arch, ModulusConfig\n",
    "from modulus.sym.hydra import to_yaml\n",
    "from modulus.sym.hydra.utils import compose\n",
    "\n",
    "from modulus.sym.solver import Solver\n",
    "from modulus.sym.domain import Domain\n",
    "from modulus.sym.geometry.primitives_2d import Rectangle\n",
    "#from modulus.sym.geometry.primitives_1d import Line1D\n",
    "from modulus.sym.domain.constraint import PointwiseBoundaryConstraint, PointwiseInteriorConstraint\n",
    "from modulus.sym.domain.inferencer import PointwiseInferencer\n",
    "from modulus.sym.node import Node\n",
    "from modulus.sym.key import Key\n",
    "from modulus.sym.eq.pde import PDE\n",
    "from sympy import Symbol, Function, Eq\n",
    "\n",
    "from modulus.sym.models.fully_connected import FullyConnectedArch\n",
    "from modulus.sym.eq.pde import PDE\n",
    "\n",
    "# https://docs.nvidia.com/deeplearning/modulus/modulus-sym/user_guide/notebook/notebook.html"
   ]
  },
  {
   "cell_type": "code",
   "execution_count": null,
   "id": "a3442b7e-d32c-4a15-848c-129106d797a8",
   "metadata": {},
   "outputs": [],
   "source": [
    "c = 2\n",
    "\n",
    "# make ldc domain\n",
    "x, y = Symbol(\"x\"), Symbol(\"y\")\n",
    "rec = Rectangle((0,0), (2,1))\n",
    "ldc_domain = Domain()"
   ]
  },
  {
   "cell_type": "code",
   "execution_count": null,
   "id": "f1624ee3-af65-4f24-be77-ba4d3d367eeb",
   "metadata": {},
   "outputs": [],
   "source": [
    "samples = rec.sample_boundary(100, quasirandom=True)\n",
    "plt.figure()\n",
    "plt.scatter(samples['x'], samples['y'], label='Signed Distance Field')\n",
    "plt.legend()\n",
    "plt.show()\n",
    "\n",
    "samples = rec.sample_interior(100, quasirandom=True)\n",
    "plt.figure()\n",
    "plt.scatter(samples['x'], samples['y'], label='Signed Distance Field')\n",
    "plt.legend()\n",
    "plt.show()"
   ]
  },
  {
   "cell_type": "code",
   "execution_count": null,
   "id": "814eb751-9f41-4519-b2b4-9d8dbe722bd5",
   "metadata": {},
   "outputs": [],
   "source": [
    "# Définir le réseau\n",
    "net = FullyConnectedArch(\n",
    "        input_keys=[Key(\"x\"),Key(\"y\")], output_keys=[Key(\"u\")], nr_layers=3, layer_size=32\n",
    "    )\n",
    "\n",
    "nodes_net = [net.make_node(name=\"network\")]"
   ]
  },
  {
   "cell_type": "code",
   "execution_count": null,
   "id": "434f2826-0e2a-492c-ba8f-1c6745c01836",
   "metadata": {},
   "outputs": [],
   "source": [
    "class CustomPDE(PDE):\n",
    "    def __init__(self):\n",
    "        # Définir l'équation de la chaleur\n",
    "        u = Function('u')(x, y)\n",
    "        self.equations = {}\n",
    "        self.equations['heat_eq'] = u.diff(y) - c**2 * u.diff(x, 2)\n",
    "        \n",
    "        self.equations['init_eq'] = u - (x**2*(2-x))\n",
    "\n",
    "eq = CustomPDE()\n",
    "nodes_pde = eq.make_nodes()"
   ]
  },
  {
   "cell_type": "code",
   "execution_count": null,
   "id": "322b4c70-6d6e-41c1-8ec1-827a0fb7dab6",
   "metadata": {},
   "outputs": [],
   "source": [
    "nodes = nodes_net + nodes_pde"
   ]
  },
  {
   "cell_type": "code",
   "execution_count": null,
   "id": "22548776-7f2b-485d-b55c-ace448dc622b",
   "metadata": {},
   "outputs": [],
   "source": [
    "nbBounds = 500\n",
    "\n",
    "# left wall\n",
    "left_wall = PointwiseBoundaryConstraint(\n",
    "    nodes=nodes,\n",
    "    geometry=rec,\n",
    "    outvar={\"u\": 0.0},\n",
    "    batch_size=nbBounds,\n",
    "    criteria=Eq(x, 0),\n",
    ")\n",
    "ldc_domain.add_constraint(left_wall, \"left_wall\")\n",
    "\n",
    "# right wall\n",
    "right_wall = PointwiseBoundaryConstraint(\n",
    "    nodes=nodes,\n",
    "    geometry=rec,\n",
    "    outvar={\"u\": 0.0},\n",
    "    batch_size=nbBounds,\n",
    "    criteria=Eq(x, 2),\n",
    ")\n",
    "ldc_domain.add_constraint(right_wall, \"right_wall\")\n",
    "\n",
    "# initial condition\n",
    "init_wall = PointwiseBoundaryConstraint(\n",
    "    nodes=nodes,\n",
    "    geometry=rec,\n",
    "    outvar={\"init_eq\": 0.0},\n",
    "    batch_size=nbBounds,\n",
    "    criteria=Eq(y, 0),\n",
    ")\n",
    "ldc_domain.add_constraint(init_wall, \"init_wall\")"
   ]
  },
  {
   "cell_type": "code",
   "execution_count": null,
   "id": "e07065f6-70ce-405d-8c90-f7c161048bb0",
   "metadata": {},
   "outputs": [],
   "source": [
    "nbCollocation = 1500\n",
    "\n",
    "# Ajouter les contraintes\n",
    "ldc_domain.add_constraint(\n",
    "    PointwiseInteriorConstraint(\n",
    "        nodes=nodes, \n",
    "        geometry=rec, \n",
    "        outvar={'heat_eq': 0.0},\n",
    "        batch_size=nbCollocation,\n",
    "        ), \n",
    "    'interior'\n",
    "    )"
   ]
  },
  {
   "cell_type": "code",
   "execution_count": null,
   "id": "09c22296-197e-418f-a577-e26912cd655b",
   "metadata": {},
   "outputs": [],
   "source": [
    "xx, yy = np.meshgrid(np.linspace(0, 2,100), \n",
    "                     np.linspace(0, 1,100))\n",
    "# add inferencer\n",
    "inference = PointwiseInferencer(\n",
    "    nodes=nodes,\n",
    "    invar={\"x\": xx.reshape(-1,1),\n",
    "           \"y\": yy.reshape(-1,1)\n",
    "           },\n",
    "    output_names=[\"u\"],\n",
    ")\n",
    "\n",
    "ldc_domain.add_inferencer(inference, \"inf_data\")"
   ]
  },
  {
   "cell_type": "code",
   "execution_count": null,
   "id": "c00bd728-76d8-48f1-9243-8ca8c07c24b9",
   "metadata": {},
   "outputs": [],
   "source": [
    "cfg = compose(config_path=\".\", config_name=\"config\")\n",
    "cfg.network_dir = 'outputs'    # Set the network directory for checkpoints\n",
    "\n",
    "# Définir le solveur\n",
    "solver = Solver(cfg=cfg, domain=ldc_domain)\n",
    "\n",
    "# Entraîner le modèle\n",
    "solver.solve()"
   ]
  },
  {
   "cell_type": "code",
   "execution_count": null,
   "id": "d6e12673-8e1a-4393-859b-8959168fed02",
   "metadata": {},
   "outputs": [],
   "source": [
    "data = np.load('./outputs/inferencers/inf_data.npz', allow_pickle=True)\n",
    "data = np.atleast_1d(data.f.arr_0)[0]\n",
    "\n",
    "data['x'].shape,data['y'].shape,data['u'].shape\n",
    "plt.imshow(data['u'].reshape((100,100)),cmap='rainbow')\n",
    "plt.colorbar()"
   ]
  },
  {
   "cell_type": "code",
   "execution_count": null,
   "id": "11533ae1-3aa1-44e5-815e-797b698aef87",
   "metadata": {},
   "outputs": [],
   "source": []
  },
  {
   "cell_type": "code",
   "execution_count": null,
   "id": "438c2356-d893-4cac-b059-4776cc005cb8",
   "metadata": {},
   "outputs": [],
   "source": []
  },
  {
   "cell_type": "code",
   "execution_count": null,
   "id": "545df54c-5d7b-439f-87ca-516280e5c0ff",
   "metadata": {},
   "outputs": [],
   "source": []
  }
 ],
 "metadata": {
  "kernelspec": {
   "display_name": "Python 3 (ipykernel)",
   "language": "python",
   "name": "python3"
  },
  "language_info": {
   "codemirror_mode": {
    "name": "ipython",
    "version": 3
   },
   "file_extension": ".py",
   "mimetype": "text/x-python",
   "name": "python",
   "nbconvert_exporter": "python",
   "pygments_lexer": "ipython3",
   "version": "3.10.5"
  }
 },
 "nbformat": 4,
 "nbformat_minor": 5
}
